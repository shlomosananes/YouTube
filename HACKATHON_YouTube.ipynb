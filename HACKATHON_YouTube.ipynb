{
  "cells": [
    {
      "cell_type": "markdown",
      "metadata": {
        "id": "view-in-github",
        "colab_type": "text"
      },
      "source": [
        "<a href=\"https://colab.research.google.com/github/shlomosananes/YouTube_Project/blob/main/HACKATHON_YouTube.ipynb\" target=\"_parent\"><img src=\"https://colab.research.google.com/assets/colab-badge.svg\" alt=\"Open In Colab\"/></a>"
      ]
    },
    {
      "cell_type": "markdown",
      "metadata": {
        "id": "F4EothWx7g8O"
      },
      "source": [
        "# **SET-UP**"
      ]
    },
    {
      "cell_type": "markdown",
      "metadata": {
        "id": "kW4h7osFAiVG"
      },
      "source": [
        "## **Importing Libraries**"
      ]
    },
    {
      "cell_type": "code",
      "execution_count": null,
      "metadata": {
        "colab": {
          "background_save": true
        },
        "id": "M1WIzdb1d3Uh"
      },
      "outputs": [],
      "source": [
        "from googleapiclient.discovery import build\n",
        "import pandas as pd\n",
        "import seaborn as sns\n",
        "import os\n",
        "import plotly.express as px\n",
        "from datetime import datetime\n",
        "from collections.abc import Iterable\n",
        "import re\n",
        "from wordcloud import WordCloud, STOPWORDS\n",
        "import matplotlib.pyplot as plt\n",
        "from plotnine import *\n",
        "import string\n",
        "from sklearn.preprocessing import OrdinalEncoder"
      ]
    },
    {
      "cell_type": "markdown",
      "metadata": {
        "id": "dnIRMUT5AoXe"
      },
      "source": [
        "## **Seeting Credentials for YouTube API**"
      ]
    },
    {
      "cell_type": "code",
      "execution_count": null,
      "metadata": {
        "colab": {
          "background_save": true
        },
        "id": "xp20FtW5fNsp"
      },
      "outputs": [],
      "source": [
        "api_key1 = ''\n",
        "api_key2 = ''\n",
        "api_key3 = ''\n",
        "\n",
        "#youtube = build('youtube','v3', developerKey = api_key)\n",
        "youtube = build('youtube','v3', developerKey = api_key1)"
      ]
    },
    {
      "cell_type": "markdown",
      "metadata": {
        "id": "xlubttoa7S9Q"
      },
      "source": [
        "--------"
      ]
    },
    {
      "cell_type": "markdown",
      "metadata": {
        "id": "qmJxSP2A8s7L"
      },
      "source": [
        "# **STEP 01 ------------------------------------------**"
      ]
    },
    {
      "cell_type": "markdown",
      "metadata": {
        "id": "rhELnk9OlfFo"
      },
      "source": [
        "# **CATEGORIES**"
      ]
    },
    {
      "cell_type": "markdown",
      "metadata": {
        "id": "dzOXqtod88FO"
      },
      "source": [
        "## **01.01 - video_CATEGORIES**"
      ]
    },
    {
      "cell_type": "markdown",
      "metadata": {
        "id": "_FGr__6S7F1_"
      },
      "source": [
        "### **Getting list of video_CATEGORIES**"
      ]
    },
    {
      "cell_type": "code",
      "execution_count": null,
      "metadata": {
        "id": "V2Mm7T_9Xz4U"
      },
      "outputs": [],
      "source": [
        "# Make the API request to retrieve channel categories for Israel\n",
        "request = youtube.videoCategories().list(\n",
        "    part='snippet',\n",
        "    regionCode='IL'  # Use the region code for Israel\n",
        ")\n",
        "\n",
        "response = request.execute()\n",
        "\n",
        "# Process the response to extract category IDs and titles\n",
        "video_categories = []\n",
        "for item in response.get('items', []):\n",
        "    Category_id = item['id']\n",
        "    Category = item['snippet']['title']\n",
        "    video_categories.append({'Category_id': Category_id, 'Category': Category})"
      ]
    },
    {
      "cell_type": "code",
      "execution_count": null,
      "metadata": {
        "id": "sxEWW_QTY-QW"
      },
      "outputs": [],
      "source": [
        "categories = pd.DataFrame(video_categories)"
      ]
    },
    {
      "cell_type": "code",
      "execution_count": null,
      "metadata": {
        "colab": {
          "background_save": true
        },
        "id": "lfw23fj-UwnT"
      },
      "outputs": [],
      "source": [
        "categories['Category_id'] = categories['Category_id'].astype(int)"
      ]
    },
    {
      "cell_type": "code",
      "execution_count": null,
      "metadata": {
        "colab": {
          "background_save": true,
          "base_uri": "https://localhost:8080/",
          "height": 1000
        },
        "id": "n_EIayOPZJBe",
        "outputId": "8f9f2b4c-3be8-4cad-a948-a017c25300c9"
      },
      "outputs": [
        {
          "data": {
            "application/vnd.google.colaboratory.intrinsic+json": {
              "summary": "{\n  \"name\": \"categories\",\n  \"rows\": 31,\n  \"fields\": [\n    {\n      \"column\": \"Category_id\",\n      \"properties\": {\n        \"dtype\": \"number\",\n        \"std\": 11,\n        \"min\": 1,\n        \"max\": 44,\n        \"num_unique_values\": 31,\n        \"samples\": [\n          41,\n          28,\n          37\n        ],\n        \"semantic_type\": \"\",\n        \"description\": \"\"\n      }\n    },\n    {\n      \"column\": \"Category\",\n      \"properties\": {\n        \"dtype\": \"string\",\n        \"num_unique_values\": 30,\n        \"samples\": [\n          \"Shorts\",\n          \"Science & Technology\",\n          \"Foreign\"\n        ],\n        \"semantic_type\": \"\",\n        \"description\": \"\"\n      }\n    }\n  ]\n}",
              "type": "dataframe"
            },
            "text/html": [
              "\n",
              "  <div id=\"df-09c9aab3-31e9-4fa0-9f6d-0ba2cccc7122\" class=\"colab-df-container\">\n",
              "    <div>\n",
              "<style scoped>\n",
              "    .dataframe tbody tr th:only-of-type {\n",
              "        vertical-align: middle;\n",
              "    }\n",
              "\n",
              "    .dataframe tbody tr th {\n",
              "        vertical-align: top;\n",
              "    }\n",
              "\n",
              "    .dataframe thead th {\n",
              "        text-align: right;\n",
              "    }\n",
              "</style>\n",
              "<table border=\"1\" class=\"dataframe\">\n",
              "  <thead>\n",
              "    <tr style=\"text-align: right;\">\n",
              "      <th></th>\n",
              "      <th>Category_id</th>\n",
              "      <th>Category</th>\n",
              "    </tr>\n",
              "  </thead>\n",
              "  <tbody>\n",
              "    <tr>\n",
              "      <th>0</th>\n",
              "      <td>1</td>\n",
              "      <td>Film &amp; Animation</td>\n",
              "    </tr>\n",
              "    <tr>\n",
              "      <th>1</th>\n",
              "      <td>2</td>\n",
              "      <td>Autos &amp; Vehicles</td>\n",
              "    </tr>\n",
              "    <tr>\n",
              "      <th>2</th>\n",
              "      <td>10</td>\n",
              "      <td>Music</td>\n",
              "    </tr>\n",
              "    <tr>\n",
              "      <th>3</th>\n",
              "      <td>15</td>\n",
              "      <td>Pets &amp; Animals</td>\n",
              "    </tr>\n",
              "    <tr>\n",
              "      <th>4</th>\n",
              "      <td>17</td>\n",
              "      <td>Sports</td>\n",
              "    </tr>\n",
              "    <tr>\n",
              "      <th>5</th>\n",
              "      <td>18</td>\n",
              "      <td>Short Movies</td>\n",
              "    </tr>\n",
              "    <tr>\n",
              "      <th>6</th>\n",
              "      <td>19</td>\n",
              "      <td>Travel &amp; Events</td>\n",
              "    </tr>\n",
              "    <tr>\n",
              "      <th>7</th>\n",
              "      <td>20</td>\n",
              "      <td>Gaming</td>\n",
              "    </tr>\n",
              "    <tr>\n",
              "      <th>8</th>\n",
              "      <td>21</td>\n",
              "      <td>Videoblogging</td>\n",
              "    </tr>\n",
              "    <tr>\n",
              "      <th>9</th>\n",
              "      <td>22</td>\n",
              "      <td>People &amp; Blogs</td>\n",
              "    </tr>\n",
              "    <tr>\n",
              "      <th>10</th>\n",
              "      <td>23</td>\n",
              "      <td>Comedy</td>\n",
              "    </tr>\n",
              "    <tr>\n",
              "      <th>11</th>\n",
              "      <td>24</td>\n",
              "      <td>Entertainment</td>\n",
              "    </tr>\n",
              "    <tr>\n",
              "      <th>12</th>\n",
              "      <td>25</td>\n",
              "      <td>News &amp; Politics</td>\n",
              "    </tr>\n",
              "    <tr>\n",
              "      <th>13</th>\n",
              "      <td>26</td>\n",
              "      <td>Howto &amp; Style</td>\n",
              "    </tr>\n",
              "    <tr>\n",
              "      <th>14</th>\n",
              "      <td>27</td>\n",
              "      <td>Education</td>\n",
              "    </tr>\n",
              "    <tr>\n",
              "      <th>15</th>\n",
              "      <td>28</td>\n",
              "      <td>Science &amp; Technology</td>\n",
              "    </tr>\n",
              "    <tr>\n",
              "      <th>16</th>\n",
              "      <td>30</td>\n",
              "      <td>Movies</td>\n",
              "    </tr>\n",
              "    <tr>\n",
              "      <th>17</th>\n",
              "      <td>31</td>\n",
              "      <td>Anime/Animation</td>\n",
              "    </tr>\n",
              "    <tr>\n",
              "      <th>18</th>\n",
              "      <td>32</td>\n",
              "      <td>Action/Adventure</td>\n",
              "    </tr>\n",
              "    <tr>\n",
              "      <th>19</th>\n",
              "      <td>33</td>\n",
              "      <td>Classics</td>\n",
              "    </tr>\n",
              "    <tr>\n",
              "      <th>20</th>\n",
              "      <td>34</td>\n",
              "      <td>Comedy</td>\n",
              "    </tr>\n",
              "    <tr>\n",
              "      <th>21</th>\n",
              "      <td>35</td>\n",
              "      <td>Documentary</td>\n",
              "    </tr>\n",
              "    <tr>\n",
              "      <th>22</th>\n",
              "      <td>36</td>\n",
              "      <td>Drama</td>\n",
              "    </tr>\n",
              "    <tr>\n",
              "      <th>23</th>\n",
              "      <td>37</td>\n",
              "      <td>Family</td>\n",
              "    </tr>\n",
              "    <tr>\n",
              "      <th>24</th>\n",
              "      <td>38</td>\n",
              "      <td>Foreign</td>\n",
              "    </tr>\n",
              "    <tr>\n",
              "      <th>25</th>\n",
              "      <td>39</td>\n",
              "      <td>Horror</td>\n",
              "    </tr>\n",
              "    <tr>\n",
              "      <th>26</th>\n",
              "      <td>40</td>\n",
              "      <td>Sci-Fi/Fantasy</td>\n",
              "    </tr>\n",
              "    <tr>\n",
              "      <th>27</th>\n",
              "      <td>41</td>\n",
              "      <td>Thriller</td>\n",
              "    </tr>\n",
              "    <tr>\n",
              "      <th>28</th>\n",
              "      <td>42</td>\n",
              "      <td>Shorts</td>\n",
              "    </tr>\n",
              "    <tr>\n",
              "      <th>29</th>\n",
              "      <td>43</td>\n",
              "      <td>Shows</td>\n",
              "    </tr>\n",
              "    <tr>\n",
              "      <th>30</th>\n",
              "      <td>44</td>\n",
              "      <td>Trailers</td>\n",
              "    </tr>\n",
              "  </tbody>\n",
              "</table>\n",
              "</div>\n",
              "    <div class=\"colab-df-buttons\">\n",
              "\n",
              "  <div class=\"colab-df-container\">\n",
              "    <button class=\"colab-df-convert\" onclick=\"convertToInteractive('df-09c9aab3-31e9-4fa0-9f6d-0ba2cccc7122')\"\n",
              "            title=\"Convert this dataframe to an interactive table.\"\n",
              "            style=\"display:none;\">\n",
              "\n",
              "  <svg xmlns=\"http://www.w3.org/2000/svg\" height=\"24px\" viewBox=\"0 -960 960 960\">\n",
              "    <path d=\"M120-120v-720h720v720H120Zm60-500h600v-160H180v160Zm220 220h160v-160H400v160Zm0 220h160v-160H400v160ZM180-400h160v-160H180v160Zm440 0h160v-160H620v160ZM180-180h160v-160H180v160Zm440 0h160v-160H620v160Z\"/>\n",
              "  </svg>\n",
              "    </button>\n",
              "\n",
              "  <style>\n",
              "    .colab-df-container {\n",
              "      display:flex;\n",
              "      gap: 12px;\n",
              "    }\n",
              "\n",
              "    .colab-df-convert {\n",
              "      background-color: #E8F0FE;\n",
              "      border: none;\n",
              "      border-radius: 50%;\n",
              "      cursor: pointer;\n",
              "      display: none;\n",
              "      fill: #1967D2;\n",
              "      height: 32px;\n",
              "      padding: 0 0 0 0;\n",
              "      width: 32px;\n",
              "    }\n",
              "\n",
              "    .colab-df-convert:hover {\n",
              "      background-color: #E2EBFA;\n",
              "      box-shadow: 0px 1px 2px rgba(60, 64, 67, 0.3), 0px 1px 3px 1px rgba(60, 64, 67, 0.15);\n",
              "      fill: #174EA6;\n",
              "    }\n",
              "\n",
              "    .colab-df-buttons div {\n",
              "      margin-bottom: 4px;\n",
              "    }\n",
              "\n",
              "    [theme=dark] .colab-df-convert {\n",
              "      background-color: #3B4455;\n",
              "      fill: #D2E3FC;\n",
              "    }\n",
              "\n",
              "    [theme=dark] .colab-df-convert:hover {\n",
              "      background-color: #434B5C;\n",
              "      box-shadow: 0px 1px 3px 1px rgba(0, 0, 0, 0.15);\n",
              "      filter: drop-shadow(0px 1px 2px rgba(0, 0, 0, 0.3));\n",
              "      fill: #FFFFFF;\n",
              "    }\n",
              "  </style>\n",
              "\n",
              "    <script>\n",
              "      const buttonEl =\n",
              "        document.querySelector('#df-09c9aab3-31e9-4fa0-9f6d-0ba2cccc7122 button.colab-df-convert');\n",
              "      buttonEl.style.display =\n",
              "        google.colab.kernel.accessAllowed ? 'block' : 'none';\n",
              "\n",
              "      async function convertToInteractive(key) {\n",
              "        const element = document.querySelector('#df-09c9aab3-31e9-4fa0-9f6d-0ba2cccc7122');\n",
              "        const dataTable =\n",
              "          await google.colab.kernel.invokeFunction('convertToInteractive',\n",
              "                                                    [key], {});\n",
              "        if (!dataTable) return;\n",
              "\n",
              "        const docLinkHtml = 'Like what you see? Visit the ' +\n",
              "          '<a target=\"_blank\" href=https://colab.research.google.com/notebooks/data_table.ipynb>data table notebook</a>'\n",
              "          + ' to learn more about interactive tables.';\n",
              "        element.innerHTML = '';\n",
              "        dataTable['output_type'] = 'display_data';\n",
              "        await google.colab.output.renderOutput(dataTable, element);\n",
              "        const docLink = document.createElement('div');\n",
              "        docLink.innerHTML = docLinkHtml;\n",
              "        element.appendChild(docLink);\n",
              "      }\n",
              "    </script>\n",
              "  </div>\n",
              "\n",
              "\n",
              "<div id=\"df-1eebb12c-32da-4991-a859-73e98019c7b5\">\n",
              "  <button class=\"colab-df-quickchart\" onclick=\"quickchart('df-1eebb12c-32da-4991-a859-73e98019c7b5')\"\n",
              "            title=\"Suggest charts\"\n",
              "            style=\"display:none;\">\n",
              "\n",
              "<svg xmlns=\"http://www.w3.org/2000/svg\" height=\"24px\"viewBox=\"0 0 24 24\"\n",
              "     width=\"24px\">\n",
              "    <g>\n",
              "        <path d=\"M19 3H5c-1.1 0-2 .9-2 2v14c0 1.1.9 2 2 2h14c1.1 0 2-.9 2-2V5c0-1.1-.9-2-2-2zM9 17H7v-7h2v7zm4 0h-2V7h2v10zm4 0h-2v-4h2v4z\"/>\n",
              "    </g>\n",
              "</svg>\n",
              "  </button>\n",
              "\n",
              "<style>\n",
              "  .colab-df-quickchart {\n",
              "      --bg-color: #E8F0FE;\n",
              "      --fill-color: #1967D2;\n",
              "      --hover-bg-color: #E2EBFA;\n",
              "      --hover-fill-color: #174EA6;\n",
              "      --disabled-fill-color: #AAA;\n",
              "      --disabled-bg-color: #DDD;\n",
              "  }\n",
              "\n",
              "  [theme=dark] .colab-df-quickchart {\n",
              "      --bg-color: #3B4455;\n",
              "      --fill-color: #D2E3FC;\n",
              "      --hover-bg-color: #434B5C;\n",
              "      --hover-fill-color: #FFFFFF;\n",
              "      --disabled-bg-color: #3B4455;\n",
              "      --disabled-fill-color: #666;\n",
              "  }\n",
              "\n",
              "  .colab-df-quickchart {\n",
              "    background-color: var(--bg-color);\n",
              "    border: none;\n",
              "    border-radius: 50%;\n",
              "    cursor: pointer;\n",
              "    display: none;\n",
              "    fill: var(--fill-color);\n",
              "    height: 32px;\n",
              "    padding: 0;\n",
              "    width: 32px;\n",
              "  }\n",
              "\n",
              "  .colab-df-quickchart:hover {\n",
              "    background-color: var(--hover-bg-color);\n",
              "    box-shadow: 0 1px 2px rgba(60, 64, 67, 0.3), 0 1px 3px 1px rgba(60, 64, 67, 0.15);\n",
              "    fill: var(--button-hover-fill-color);\n",
              "  }\n",
              "\n",
              "  .colab-df-quickchart-complete:disabled,\n",
              "  .colab-df-quickchart-complete:disabled:hover {\n",
              "    background-color: var(--disabled-bg-color);\n",
              "    fill: var(--disabled-fill-color);\n",
              "    box-shadow: none;\n",
              "  }\n",
              "\n",
              "  .colab-df-spinner {\n",
              "    border: 2px solid var(--fill-color);\n",
              "    border-color: transparent;\n",
              "    border-bottom-color: var(--fill-color);\n",
              "    animation:\n",
              "      spin 1s steps(1) infinite;\n",
              "  }\n",
              "\n",
              "  @keyframes spin {\n",
              "    0% {\n",
              "      border-color: transparent;\n",
              "      border-bottom-color: var(--fill-color);\n",
              "      border-left-color: var(--fill-color);\n",
              "    }\n",
              "    20% {\n",
              "      border-color: transparent;\n",
              "      border-left-color: var(--fill-color);\n",
              "      border-top-color: var(--fill-color);\n",
              "    }\n",
              "    30% {\n",
              "      border-color: transparent;\n",
              "      border-left-color: var(--fill-color);\n",
              "      border-top-color: var(--fill-color);\n",
              "      border-right-color: var(--fill-color);\n",
              "    }\n",
              "    40% {\n",
              "      border-color: transparent;\n",
              "      border-right-color: var(--fill-color);\n",
              "      border-top-color: var(--fill-color);\n",
              "    }\n",
              "    60% {\n",
              "      border-color: transparent;\n",
              "      border-right-color: var(--fill-color);\n",
              "    }\n",
              "    80% {\n",
              "      border-color: transparent;\n",
              "      border-right-color: var(--fill-color);\n",
              "      border-bottom-color: var(--fill-color);\n",
              "    }\n",
              "    90% {\n",
              "      border-color: transparent;\n",
              "      border-bottom-color: var(--fill-color);\n",
              "    }\n",
              "  }\n",
              "</style>\n",
              "\n",
              "  <script>\n",
              "    async function quickchart(key) {\n",
              "      const quickchartButtonEl =\n",
              "        document.querySelector('#' + key + ' button');\n",
              "      quickchartButtonEl.disabled = true;  // To prevent multiple clicks.\n",
              "      quickchartButtonEl.classList.add('colab-df-spinner');\n",
              "      try {\n",
              "        const charts = await google.colab.kernel.invokeFunction(\n",
              "            'suggestCharts', [key], {});\n",
              "      } catch (error) {\n",
              "        console.error('Error during call to suggestCharts:', error);\n",
              "      }\n",
              "      quickchartButtonEl.classList.remove('colab-df-spinner');\n",
              "      quickchartButtonEl.classList.add('colab-df-quickchart-complete');\n",
              "    }\n",
              "    (() => {\n",
              "      let quickchartButtonEl =\n",
              "        document.querySelector('#df-1eebb12c-32da-4991-a859-73e98019c7b5 button');\n",
              "      quickchartButtonEl.style.display =\n",
              "        google.colab.kernel.accessAllowed ? 'block' : 'none';\n",
              "    })();\n",
              "  </script>\n",
              "</div>\n",
              "\n",
              "    </div>\n",
              "  </div>\n"
            ],
            "text/plain": [
              "    Category_id              Category\n",
              "0             1      Film & Animation\n",
              "1             2      Autos & Vehicles\n",
              "2            10                 Music\n",
              "3            15        Pets & Animals\n",
              "4            17                Sports\n",
              "5            18          Short Movies\n",
              "6            19       Travel & Events\n",
              "7            20                Gaming\n",
              "8            21         Videoblogging\n",
              "9            22        People & Blogs\n",
              "10           23                Comedy\n",
              "11           24         Entertainment\n",
              "12           25       News & Politics\n",
              "13           26         Howto & Style\n",
              "14           27             Education\n",
              "15           28  Science & Technology\n",
              "16           30                Movies\n",
              "17           31       Anime/Animation\n",
              "18           32      Action/Adventure\n",
              "19           33              Classics\n",
              "20           34                Comedy\n",
              "21           35           Documentary\n",
              "22           36                 Drama\n",
              "23           37                Family\n",
              "24           38               Foreign\n",
              "25           39                Horror\n",
              "26           40        Sci-Fi/Fantasy\n",
              "27           41              Thriller\n",
              "28           42                Shorts\n",
              "29           43                 Shows\n",
              "30           44              Trailers"
            ]
          },
          "execution_count": 6,
          "metadata": {},
          "output_type": "execute_result"
        }
      ],
      "source": [
        "categories.sort_index()"
      ]
    },
    {
      "cell_type": "markdown",
      "metadata": {
        "id": "JFwfzukklpEe"
      },
      "source": [
        "## **01.02 - TOP VIDEOS**"
      ]
    },
    {
      "cell_type": "markdown",
      "metadata": {
        "id": "KJMTfmWZXudu"
      },
      "source": [
        "### **YouTube TOP VIDEOS**"
      ]
    },
    {
      "cell_type": "code",
      "execution_count": null,
      "metadata": {
        "id": "ZHeqrAPvmA1A"
      },
      "outputs": [],
      "source": [
        "def get_top_videos(youtube):\n",
        "\n",
        "  all_data = []\n",
        "\n",
        "  next_page_token = None\n",
        "  limit = 0\n",
        "\n",
        "  while limit < 10:\n",
        "\n",
        "    request = youtube.videos().list(\n",
        "        part=\"snippet\",\n",
        "        chart=\"mostPopular\",\n",
        "        maxResults=50,\n",
        "        pageToken = next_page_token )\n",
        "\n",
        "    response = request.execute()\n",
        "\n",
        "    for i in range(len(response['items'])):\n",
        "\n",
        "        data = dict(Video_id = response['items'][i]['id'],\n",
        "                    Category_id = response['items'][i]['snippet']['categoryId'],\n",
        "                    Title = response['items'][i]['snippet']['title'] ,\n",
        "                    Description = response['items'][i]['snippet']['description'],\n",
        "                    url_default = response['items'][i]['snippet']['thumbnails']['default']['url'],\n",
        "                    Channel_id = response['items'][i]['snippet']['channelId'] ,\n",
        "                    #Channel_title = response['items'][i]['snippet']['channelTitle'],\n",
        "                    Publish_time = response['items'][i]['snippet']['publishedAt'])\n",
        "\n",
        "        all_data.append(data)\n",
        "\n",
        "    next_page_token = response.get('nextPageToken')\n",
        "\n",
        "    if not next_page_token:\n",
        "      break  # Break the loop if there are no more pages\n",
        "\n",
        "    limit += 1\n",
        "\n",
        "  return all_data"
      ]
    },
    {
      "cell_type": "code",
      "execution_count": null,
      "metadata": {
        "id": "C9dxVK3BphPv"
      },
      "outputs": [],
      "source": [
        "### This code was used to pull new data and save.\n",
        "### For the presentation I used the uploaded files\n",
        "\n",
        "# top_videos = get_top_videos(youtube)"
      ]
    },
    {
      "cell_type": "code",
      "execution_count": null,
      "metadata": {
        "id": "VKqFDE22qUwa"
      },
      "outputs": [],
      "source": [
        "### This code was used to pull new data and save.\n",
        "### For the presentation I used the uploaded files\n",
        "# Exporting results to gather and upload and concat afterwards\n",
        "\n",
        "# top_videos_df.to_csv('top_videos_02.csv', index=False)"
      ]
    },
    {
      "cell_type": "markdown",
      "metadata": {
        "id": "wnrCuznsu8Eg"
      },
      "source": [
        "**MUST UPLOAD FILES TO CONTINUE**\n",
        "- Files name: \" top_videos_ .... \""
      ]
    },
    {
      "cell_type": "code",
      "execution_count": null,
      "metadata": {
        "id": "oUBQP4z_UbtV"
      },
      "outputs": [],
      "source": [
        "csv_files = [file for file in os.listdir() if file.endswith('.csv')]\n",
        "\n",
        "top_videos_dfs = []\n",
        "\n",
        "for file in csv_files:\n",
        "    if file.startswith(\"top_videos\"):\n",
        "        df = pd.read_csv(file)\n",
        "        top_videos_dfs.append(df)\n",
        "\n",
        "combined_top_videos_df = pd.concat(top_videos_dfs, ignore_index=True)"
      ]
    },
    {
      "cell_type": "code",
      "execution_count": null,
      "metadata": {
        "colab": {
          "base_uri": "https://localhost:8080/"
        },
        "id": "x-N7VdjrsPOM",
        "outputId": "fe65f98f-44e6-4fe6-fa1b-3c2fe4d42b04"
      },
      "outputs": [
        {
          "data": {
            "text/plain": [
              "(400, 7)"
            ]
          },
          "execution_count": 13,
          "metadata": {},
          "output_type": "execute_result"
        }
      ],
      "source": [
        "combined_top_videos_df.shape"
      ]
    },
    {
      "cell_type": "code",
      "execution_count": null,
      "metadata": {
        "colab": {
          "base_uri": "https://localhost:8080/"
        },
        "id": "_mtmjVu3sSYy",
        "outputId": "939f9034-25ab-4369-e269-10b89cc83cfe"
      },
      "outputs": [
        {
          "data": {
            "text/plain": [
              "200"
            ]
          },
          "execution_count": 14,
          "metadata": {},
          "output_type": "execute_result"
        }
      ],
      "source": [
        "combined_top_videos_df.duplicated().sum()"
      ]
    },
    {
      "cell_type": "code",
      "execution_count": null,
      "metadata": {
        "id": "2akZcG1csthG"
      },
      "outputs": [],
      "source": [
        "combined_top_videos_df = combined_top_videos_df.drop_duplicates()"
      ]
    },
    {
      "cell_type": "code",
      "execution_count": null,
      "metadata": {
        "colab": {
          "base_uri": "https://localhost:8080/"
        },
        "id": "wEJl18C4si5v",
        "outputId": "764c65bf-975f-42ee-8b5a-dba65a2a32b9"
      },
      "outputs": [
        {
          "data": {
            "text/plain": [
              "0"
            ]
          },
          "execution_count": 16,
          "metadata": {},
          "output_type": "execute_result"
        }
      ],
      "source": [
        "combined_top_videos_df.duplicated().sum()"
      ]
    },
    {
      "cell_type": "code",
      "execution_count": null,
      "metadata": {
        "colab": {
          "base_uri": "https://localhost:8080/"
        },
        "id": "nkj5XWIxsjGc",
        "outputId": "bd2925e7-92ac-4578-ccd7-da81dbd89f9b"
      },
      "outputs": [
        {
          "data": {
            "text/plain": [
              "(200, 7)"
            ]
          },
          "execution_count": 17,
          "metadata": {},
          "output_type": "execute_result"
        }
      ],
      "source": [
        "combined_top_videos_df.shape"
      ]
    },
    {
      "cell_type": "markdown",
      "metadata": {
        "id": "T5o_Yb7UsyKk"
      },
      "source": [
        "**At this point the Combined_Top_Videos_DataFrame is ready.**"
      ]
    },
    {
      "cell_type": "markdown",
      "metadata": {
        "id": "IAK_oVtSzbcy"
      },
      "source": [
        "# **01.03 - Top videos ANALYSIS**"
      ]
    },
    {
      "cell_type": "code",
      "execution_count": null,
      "metadata": {
        "id": "sCN1VZfE75r7"
      },
      "outputs": [],
      "source": [
        "cat_counts = combined_top_videos_df['Category_id'].value_counts(normalize=True) * 100\n",
        "df_counts = cat_counts.reset_index()\n",
        "df_counts.columns = ['Category_id', 'Frequency']"
      ]
    },
    {
      "cell_type": "code",
      "execution_count": null,
      "metadata": {
        "id": "VZSlyjZt_FKz"
      },
      "outputs": [],
      "source": [
        "categories_frequency = pd.merge(df_counts, categories, on = 'Category_id' , how ='left')"
      ]
    },
    {
      "cell_type": "code",
      "execution_count": null,
      "metadata": {
        "colab": {
          "base_uri": "https://localhost:8080/",
          "height": 542
        },
        "id": "l0AvbbJY_iSz",
        "outputId": "1784bf5e-139d-41dd-c562-8b7710a729a1"
      },
      "outputs": [
        {
          "data": {
            "text/html": [
              "<html>\n",
              "<head><meta charset=\"utf-8\" /></head>\n",
              "<body>\n",
              "    <div>            <script src=\"https://cdnjs.cloudflare.com/ajax/libs/mathjax/2.7.5/MathJax.js?config=TeX-AMS-MML_SVG\"></script><script type=\"text/javascript\">if (window.MathJax && window.MathJax.Hub && window.MathJax.Hub.Config) {window.MathJax.Hub.Config({SVG: {font: \"STIX-Web\"}});}</script>                <script type=\"text/javascript\">window.PlotlyConfig = {MathJaxConfig: 'local'};</script>\n",
              "        <script charset=\"utf-8\" src=\"https://cdn.plot.ly/plotly-2.24.1.min.js\"></script>                <div id=\"a49ff906-268d-4185-9110-0d21e8f317a5\" class=\"plotly-graph-div\" style=\"height:525px; width:100%;\"></div>            <script type=\"text/javascript\">                                    window.PLOTLYENV=window.PLOTLYENV || {};                                    if (document.getElementById(\"a49ff906-268d-4185-9110-0d21e8f317a5\")) {                    Plotly.newPlot(                        \"a49ff906-268d-4185-9110-0d21e8f317a5\",                        [{\"branchvalues\":\"total\",\"customdata\":[[2.5],[3.5000000000000004],[1.0],[20.5],[7.5],[14.000000000000002],[3.5000000000000004],[16.5],[5.0],[9.5],[3.0],[13.0],[0.5]],\"domain\":{\"x\":[0.0,1.0],\"y\":[0.0,1.0]},\"hovertemplate\":\"labels=%{label}\\u003cbr\\u003eFrequency_sum=%{value}\\u003cbr\\u003eparent=%{parent}\\u003cbr\\u003eid=%{id}\\u003cbr\\u003eFrequency=%{color}\\u003cextra\\u003e\\u003c\\u002fextra\\u003e\",\"ids\":[\"Autos & Vehicles\",\"Comedy\",\"Education\",\"Entertainment\",\"Film & Animation\",\"Gaming\",\"Howto & Style\",\"Music\",\"News & Politics\",\"People & Blogs\",\"Science & Technology\",\"Sports\",\"Travel & Events\"],\"labels\":[\"Autos & Vehicles\",\"Comedy\",\"Education\",\"Entertainment\",\"Film & Animation\",\"Gaming\",\"Howto & Style\",\"Music\",\"News & Politics\",\"People & Blogs\",\"Science & Technology\",\"Sports\",\"Travel & Events\"],\"marker\":{\"coloraxis\":\"coloraxis\",\"colors\":[2.5,3.5000000000000004,1.0,20.5,7.5,14.000000000000002,3.5000000000000004,16.5,5.0,9.5,3.0,13.0,0.5]},\"name\":\"\",\"parents\":[\"\",\"\",\"\",\"\",\"\",\"\",\"\",\"\",\"\",\"\",\"\",\"\",\"\"],\"values\":[2.5,3.5000000000000004,1.0,20.5,7.5,14.000000000000002,3.5000000000000004,16.5,5.0,9.5,3.0,13.0,0.5],\"type\":\"treemap\"}],                        {\"template\":{\"data\":{\"histogram2dcontour\":[{\"type\":\"histogram2dcontour\",\"colorbar\":{\"outlinewidth\":0,\"ticks\":\"\"},\"colorscale\":[[0.0,\"#0d0887\"],[0.1111111111111111,\"#46039f\"],[0.2222222222222222,\"#7201a8\"],[0.3333333333333333,\"#9c179e\"],[0.4444444444444444,\"#bd3786\"],[0.5555555555555556,\"#d8576b\"],[0.6666666666666666,\"#ed7953\"],[0.7777777777777778,\"#fb9f3a\"],[0.8888888888888888,\"#fdca26\"],[1.0,\"#f0f921\"]]}],\"choropleth\":[{\"type\":\"choropleth\",\"colorbar\":{\"outlinewidth\":0,\"ticks\":\"\"}}],\"histogram2d\":[{\"type\":\"histogram2d\",\"colorbar\":{\"outlinewidth\":0,\"ticks\":\"\"},\"colorscale\":[[0.0,\"#0d0887\"],[0.1111111111111111,\"#46039f\"],[0.2222222222222222,\"#7201a8\"],[0.3333333333333333,\"#9c179e\"],[0.4444444444444444,\"#bd3786\"],[0.5555555555555556,\"#d8576b\"],[0.6666666666666666,\"#ed7953\"],[0.7777777777777778,\"#fb9f3a\"],[0.8888888888888888,\"#fdca26\"],[1.0,\"#f0f921\"]]}],\"heatmap\":[{\"type\":\"heatmap\",\"colorbar\":{\"outlinewidth\":0,\"ticks\":\"\"},\"colorscale\":[[0.0,\"#0d0887\"],[0.1111111111111111,\"#46039f\"],[0.2222222222222222,\"#7201a8\"],[0.3333333333333333,\"#9c179e\"],[0.4444444444444444,\"#bd3786\"],[0.5555555555555556,\"#d8576b\"],[0.6666666666666666,\"#ed7953\"],[0.7777777777777778,\"#fb9f3a\"],[0.8888888888888888,\"#fdca26\"],[1.0,\"#f0f921\"]]}],\"heatmapgl\":[{\"type\":\"heatmapgl\",\"colorbar\":{\"outlinewidth\":0,\"ticks\":\"\"},\"colorscale\":[[0.0,\"#0d0887\"],[0.1111111111111111,\"#46039f\"],[0.2222222222222222,\"#7201a8\"],[0.3333333333333333,\"#9c179e\"],[0.4444444444444444,\"#bd3786\"],[0.5555555555555556,\"#d8576b\"],[0.6666666666666666,\"#ed7953\"],[0.7777777777777778,\"#fb9f3a\"],[0.8888888888888888,\"#fdca26\"],[1.0,\"#f0f921\"]]}],\"contourcarpet\":[{\"type\":\"contourcarpet\",\"colorbar\":{\"outlinewidth\":0,\"ticks\":\"\"}}],\"contour\":[{\"type\":\"contour\",\"colorbar\":{\"outlinewidth\":0,\"ticks\":\"\"},\"colorscale\":[[0.0,\"#0d0887\"],[0.1111111111111111,\"#46039f\"],[0.2222222222222222,\"#7201a8\"],[0.3333333333333333,\"#9c179e\"],[0.4444444444444444,\"#bd3786\"],[0.5555555555555556,\"#d8576b\"],[0.6666666666666666,\"#ed7953\"],[0.7777777777777778,\"#fb9f3a\"],[0.8888888888888888,\"#fdca26\"],[1.0,\"#f0f921\"]]}],\"surface\":[{\"type\":\"surface\",\"colorbar\":{\"outlinewidth\":0,\"ticks\":\"\"},\"colorscale\":[[0.0,\"#0d0887\"],[0.1111111111111111,\"#46039f\"],[0.2222222222222222,\"#7201a8\"],[0.3333333333333333,\"#9c179e\"],[0.4444444444444444,\"#bd3786\"],[0.5555555555555556,\"#d8576b\"],[0.6666666666666666,\"#ed7953\"],[0.7777777777777778,\"#fb9f3a\"],[0.8888888888888888,\"#fdca26\"],[1.0,\"#f0f921\"]]}],\"mesh3d\":[{\"type\":\"mesh3d\",\"colorbar\":{\"outlinewidth\":0,\"ticks\":\"\"}}],\"scatter\":[{\"fillpattern\":{\"fillmode\":\"overlay\",\"size\":10,\"solidity\":0.2},\"type\":\"scatter\"}],\"parcoords\":[{\"type\":\"parcoords\",\"line\":{\"colorbar\":{\"outlinewidth\":0,\"ticks\":\"\"}}}],\"scatterpolargl\":[{\"type\":\"scatterpolargl\",\"marker\":{\"colorbar\":{\"outlinewidth\":0,\"ticks\":\"\"}}}],\"bar\":[{\"error_x\":{\"color\":\"#2a3f5f\"},\"error_y\":{\"color\":\"#2a3f5f\"},\"marker\":{\"line\":{\"color\":\"#E5ECF6\",\"width\":0.5},\"pattern\":{\"fillmode\":\"overlay\",\"size\":10,\"solidity\":0.2}},\"type\":\"bar\"}],\"scattergeo\":[{\"type\":\"scattergeo\",\"marker\":{\"colorbar\":{\"outlinewidth\":0,\"ticks\":\"\"}}}],\"scatterpolar\":[{\"type\":\"scatterpolar\",\"marker\":{\"colorbar\":{\"outlinewidth\":0,\"ticks\":\"\"}}}],\"histogram\":[{\"marker\":{\"pattern\":{\"fillmode\":\"overlay\",\"size\":10,\"solidity\":0.2}},\"type\":\"histogram\"}],\"scattergl\":[{\"type\":\"scattergl\",\"marker\":{\"colorbar\":{\"outlinewidth\":0,\"ticks\":\"\"}}}],\"scatter3d\":[{\"type\":\"scatter3d\",\"line\":{\"colorbar\":{\"outlinewidth\":0,\"ticks\":\"\"}},\"marker\":{\"colorbar\":{\"outlinewidth\":0,\"ticks\":\"\"}}}],\"scattermapbox\":[{\"type\":\"scattermapbox\",\"marker\":{\"colorbar\":{\"outlinewidth\":0,\"ticks\":\"\"}}}],\"scatterternary\":[{\"type\":\"scatterternary\",\"marker\":{\"colorbar\":{\"outlinewidth\":0,\"ticks\":\"\"}}}],\"scattercarpet\":[{\"type\":\"scattercarpet\",\"marker\":{\"colorbar\":{\"outlinewidth\":0,\"ticks\":\"\"}}}],\"carpet\":[{\"aaxis\":{\"endlinecolor\":\"#2a3f5f\",\"gridcolor\":\"white\",\"linecolor\":\"white\",\"minorgridcolor\":\"white\",\"startlinecolor\":\"#2a3f5f\"},\"baxis\":{\"endlinecolor\":\"#2a3f5f\",\"gridcolor\":\"white\",\"linecolor\":\"white\",\"minorgridcolor\":\"white\",\"startlinecolor\":\"#2a3f5f\"},\"type\":\"carpet\"}],\"table\":[{\"cells\":{\"fill\":{\"color\":\"#EBF0F8\"},\"line\":{\"color\":\"white\"}},\"header\":{\"fill\":{\"color\":\"#C8D4E3\"},\"line\":{\"color\":\"white\"}},\"type\":\"table\"}],\"barpolar\":[{\"marker\":{\"line\":{\"color\":\"#E5ECF6\",\"width\":0.5},\"pattern\":{\"fillmode\":\"overlay\",\"size\":10,\"solidity\":0.2}},\"type\":\"barpolar\"}],\"pie\":[{\"automargin\":true,\"type\":\"pie\"}]},\"layout\":{\"autotypenumbers\":\"strict\",\"colorway\":[\"#636efa\",\"#EF553B\",\"#00cc96\",\"#ab63fa\",\"#FFA15A\",\"#19d3f3\",\"#FF6692\",\"#B6E880\",\"#FF97FF\",\"#FECB52\"],\"font\":{\"color\":\"#2a3f5f\"},\"hovermode\":\"closest\",\"hoverlabel\":{\"align\":\"left\"},\"paper_bgcolor\":\"white\",\"plot_bgcolor\":\"#E5ECF6\",\"polar\":{\"bgcolor\":\"#E5ECF6\",\"angularaxis\":{\"gridcolor\":\"white\",\"linecolor\":\"white\",\"ticks\":\"\"},\"radialaxis\":{\"gridcolor\":\"white\",\"linecolor\":\"white\",\"ticks\":\"\"}},\"ternary\":{\"bgcolor\":\"#E5ECF6\",\"aaxis\":{\"gridcolor\":\"white\",\"linecolor\":\"white\",\"ticks\":\"\"},\"baxis\":{\"gridcolor\":\"white\",\"linecolor\":\"white\",\"ticks\":\"\"},\"caxis\":{\"gridcolor\":\"white\",\"linecolor\":\"white\",\"ticks\":\"\"}},\"coloraxis\":{\"colorbar\":{\"outlinewidth\":0,\"ticks\":\"\"}},\"colorscale\":{\"sequential\":[[0.0,\"#0d0887\"],[0.1111111111111111,\"#46039f\"],[0.2222222222222222,\"#7201a8\"],[0.3333333333333333,\"#9c179e\"],[0.4444444444444444,\"#bd3786\"],[0.5555555555555556,\"#d8576b\"],[0.6666666666666666,\"#ed7953\"],[0.7777777777777778,\"#fb9f3a\"],[0.8888888888888888,\"#fdca26\"],[1.0,\"#f0f921\"]],\"sequentialminus\":[[0.0,\"#0d0887\"],[0.1111111111111111,\"#46039f\"],[0.2222222222222222,\"#7201a8\"],[0.3333333333333333,\"#9c179e\"],[0.4444444444444444,\"#bd3786\"],[0.5555555555555556,\"#d8576b\"],[0.6666666666666666,\"#ed7953\"],[0.7777777777777778,\"#fb9f3a\"],[0.8888888888888888,\"#fdca26\"],[1.0,\"#f0f921\"]],\"diverging\":[[0,\"#8e0152\"],[0.1,\"#c51b7d\"],[0.2,\"#de77ae\"],[0.3,\"#f1b6da\"],[0.4,\"#fde0ef\"],[0.5,\"#f7f7f7\"],[0.6,\"#e6f5d0\"],[0.7,\"#b8e186\"],[0.8,\"#7fbc41\"],[0.9,\"#4d9221\"],[1,\"#276419\"]]},\"xaxis\":{\"gridcolor\":\"white\",\"linecolor\":\"white\",\"ticks\":\"\",\"title\":{\"standoff\":15},\"zerolinecolor\":\"white\",\"automargin\":true,\"zerolinewidth\":2},\"yaxis\":{\"gridcolor\":\"white\",\"linecolor\":\"white\",\"ticks\":\"\",\"title\":{\"standoff\":15},\"zerolinecolor\":\"white\",\"automargin\":true,\"zerolinewidth\":2},\"scene\":{\"xaxis\":{\"backgroundcolor\":\"#E5ECF6\",\"gridcolor\":\"white\",\"linecolor\":\"white\",\"showbackground\":true,\"ticks\":\"\",\"zerolinecolor\":\"white\",\"gridwidth\":2},\"yaxis\":{\"backgroundcolor\":\"#E5ECF6\",\"gridcolor\":\"white\",\"linecolor\":\"white\",\"showbackground\":true,\"ticks\":\"\",\"zerolinecolor\":\"white\",\"gridwidth\":2},\"zaxis\":{\"backgroundcolor\":\"#E5ECF6\",\"gridcolor\":\"white\",\"linecolor\":\"white\",\"showbackground\":true,\"ticks\":\"\",\"zerolinecolor\":\"white\",\"gridwidth\":2}},\"shapedefaults\":{\"line\":{\"color\":\"#2a3f5f\"}},\"annotationdefaults\":{\"arrowcolor\":\"#2a3f5f\",\"arrowhead\":0,\"arrowwidth\":1},\"geo\":{\"bgcolor\":\"white\",\"landcolor\":\"#E5ECF6\",\"subunitcolor\":\"white\",\"showland\":true,\"showlakes\":true,\"lakecolor\":\"white\"},\"title\":{\"x\":0.05},\"mapbox\":{\"style\":\"light\"}}},\"coloraxis\":{\"colorbar\":{\"title\":{\"text\":\"Frequency\"}},\"colorscale\":[[0.0,\"rgb(237, 229, 207)\"],[0.16666666666666666,\"rgb(224, 194, 162)\"],[0.3333333333333333,\"rgb(211, 156, 131)\"],[0.5,\"rgb(193, 118, 111)\"],[0.6666666666666666,\"rgb(166, 84, 97)\"],[0.8333333333333334,\"rgb(129, 55, 83)\"],[1.0,\"rgb(84, 31, 63)\"]]},\"legend\":{\"tracegroupgap\":0},\"margin\":{\"t\":60},\"title\":{\"text\":\"Treemap of Categories Frequency in top 200 videos\"}},                        {\"responsive\": true}                    ).then(function(){\n",
              "                            \n",
              "var gd = document.getElementById('a49ff906-268d-4185-9110-0d21e8f317a5');\n",
              "var x = new MutationObserver(function (mutations, observer) {{\n",
              "        var display = window.getComputedStyle(gd).display;\n",
              "        if (!display || display === 'none') {{\n",
              "            console.log([gd, 'removed!']);\n",
              "            Plotly.purge(gd);\n",
              "            observer.disconnect();\n",
              "        }}\n",
              "}});\n",
              "\n",
              "// Listen for the removal of the full notebook cells\n",
              "var notebookContainer = gd.closest('#notebook-container');\n",
              "if (notebookContainer) {{\n",
              "    x.observe(notebookContainer, {childList: true});\n",
              "}}\n",
              "\n",
              "// Listen for the clearing of the current output cell\n",
              "var outputEl = gd.closest('.output');\n",
              "if (outputEl) {{\n",
              "    x.observe(outputEl, {childList: true});\n",
              "}}\n",
              "\n",
              "                        })                };                            </script>        </div>\n",
              "</body>\n",
              "</html>"
            ]
          },
          "metadata": {},
          "output_type": "display_data"
        }
      ],
      "source": [
        "fig = px.treemap(categories_frequency, path=['Category'], values='Frequency', color='Frequency', color_continuous_scale = 'Brwnyl')\n",
        "fig.update_layout(title = 'Treemap of Categories Frequency in top 200 videos')\n",
        "fig.show()"
      ]
    },
    {
      "cell_type": "markdown",
      "metadata": {
        "id": "poB0s-Bok7Yj"
      },
      "source": [
        "# **STEP 02 ------------------------------------------**"
      ]
    },
    {
      "cell_type": "markdown",
      "metadata": {
        "id": "hplhN4Bt8Oqi"
      },
      "source": [
        "# **VIDEOS (based on Keywords and Cat.27)**"
      ]
    },
    {
      "cell_type": "markdown",
      "metadata": {
        "id": "QLms7ULJ7owP"
      },
      "source": [
        "## **02.01 - KEYWORDS**"
      ]
    },
    {
      "cell_type": "code",
      "execution_count": null,
      "metadata": {
        "id": "fIrugyXr736l"
      },
      "outputs": [],
      "source": [
        "# Define the search query\n",
        "# Increasing the list of words that results not really change. It is always between 490 and 680.\n",
        "\n",
        "# query 1: requests 01 02 03 04 05\n",
        "query1 = 'tutorial|learning|lesson|practice|guide|Education|Training|How-to|Workshop|Course|Study|Skill|Lecture|Educational|Code|Coding|Programming|School|Professional|Improve|Learn'\n",
        "# query 2: requests 06 07 08 09 10\n",
        "query2 = 'datas cience | coding | programing | developer | code | chat gpt | python | tableau | power bi | looker | sql | tutorial '\n",
        "# query 3: requests 11 12 13 14 15\n",
        "query3 = ' Architect | Medicine | Engineering | Lawyer | Cooking | Economist | Politician | Journalism | Business | Gardening | Real State | Sales | Logistics | Manufacturing | Social Media'\n",
        "# query 4: requests 16 17 18 19 20\n",
        "query4 = ' Art | Sports | Meditation | Elderly | Day care | Mindedness | Religion | Music | Cinema | Parenthood | Masonry | Self awareness | Counselling '\n",
        "\n"
      ]
    },
    {
      "cell_type": "markdown",
      "metadata": {
        "id": "tGbQUYpc8Brl"
      },
      "source": [
        "## **02.02 - FUNCTION to fetch VIDEOS**"
      ]
    },
    {
      "cell_type": "markdown",
      "metadata": {
        "id": "lILZyNka9aRY"
      },
      "source": [
        "### **Function definition**"
      ]
    },
    {
      "cell_type": "code",
      "execution_count": null,
      "metadata": {
        "id": "LFK4tarR66SW"
      },
      "outputs": [],
      "source": [
        "# Create a YouTube Data API client\n",
        "#youtube = build('youtube', 'v3', developerKey=api_key)\n",
        "# Define the category IDs for educational content (You can find the full list of category IDs in the API documentation)\n",
        "#category_ids = Educ_categories.video_cat_id  # Education and Science & Technology categories\n",
        "# Define function to fetch data\n",
        "def get_videos(youtube,query):\n",
        "\n",
        "  all_data = []\n",
        "\n",
        "  # Split category IDs into a list\n",
        "  #category_id_list = category_ids.split(',')\n",
        "  #for category_id in category_ids:\n",
        "#Esses proximos #s sao soh para economziar QUOTES. As linhas precisam rodar no codigo\n",
        "\n",
        "  next_page_token = None\n",
        "  limit = 0\n",
        "\n",
        "  while limit < 20:\n",
        "\n",
        "    request = youtube.search().list(\n",
        "          #q=query1,\n",
        "          #q=query2,\n",
        "          #q=query3,\n",
        "          q=query4,\n",
        "          part='snippet',\n",
        "          type='video',\n",
        "          videoCategoryId= '27',\n",
        "          maxResults=50,  # You can adjust this number as needed\n",
        "          pageToken = next_page_token\n",
        "          )\n",
        "\n",
        "    response = request.execute()\n",
        "\n",
        "    for i in range(len(response['items'])):\n",
        "\n",
        "        data = dict(Video_id = response['items'][i]['id']['videoId'],\n",
        "                    Category_id = '27',\n",
        "                    Title = response['items'][i]['snippet']['title'] ,\n",
        "                    Description = response['items'][i]['snippet']['description'],\n",
        "                    url_default = response['items'][i]['snippet']['thumbnails']['default']['url'],\n",
        "                    Channel_id = response['items'][i]['snippet']['channelId'] ,\n",
        "                    #Channel_title = response['items'][i]['snippet']['channelTitle'],\n",
        "                    Publish_time = response['items'][i]['snippet']['publishTime'])\n",
        "\n",
        "        all_data.append(data)\n",
        "        print(f\"Page {limit+1} - Item {limit*50+i+1}\")\n",
        "\n",
        "    next_page_token = response.get('nextPageToken')\n",
        "\n",
        "    if not next_page_token:\n",
        "      break  # Break the loop if there are no more pages\n",
        "\n",
        "    limit += 1\n",
        "\n",
        "  return all_data"
      ]
    },
    {
      "cell_type": "markdown",
      "metadata": {
        "id": "ThV9gPUC9XMp"
      },
      "source": [
        "### **Function call**"
      ]
    },
    {
      "cell_type": "code",
      "execution_count": null,
      "metadata": {
        "id": "yQP8S3CcuJv7"
      },
      "outputs": [],
      "source": [
        "### Used during development\n",
        "### For the presentation I used the uploaded files\n",
        "\n",
        "# videos_response = get_videos(youtube,query)"
      ]
    },
    {
      "cell_type": "markdown",
      "metadata": {
        "id": "_u6WQfMF_U3k"
      },
      "source": [
        "-------"
      ]
    },
    {
      "cell_type": "markdown",
      "metadata": {
        "id": "hOcWpUOmZo-R"
      },
      "source": [
        "## **02.03 - DataFrame Creation**"
      ]
    },
    {
      "cell_type": "markdown",
      "metadata": {
        "id": "-he7qLC0aEVK"
      },
      "source": [
        "### **Files management**"
      ]
    },
    {
      "cell_type": "code",
      "execution_count": null,
      "metadata": {
        "id": "fM1WEVgA9_h7"
      },
      "outputs": [],
      "source": [
        "# # When using API\n",
        "\n",
        "# recent_fetch = videos_response.copy()\n",
        "# recent_fetch_df = pd.DataFrame(recent_fetch)\n",
        "# # Exporting results to gather and upload and concat afterwards\n",
        "# recent_fetch_df.to_csv('videos_df_20.csv', index=False)"
      ]
    },
    {
      "cell_type": "code",
      "execution_count": null,
      "metadata": {
        "id": "FDj7ohCZORIi"
      },
      "outputs": [],
      "source": [
        "# Block to create a combined df with data from all the files uploaded\n",
        "\n",
        "csv_files = [file for file in os.listdir() if file.endswith('.csv')]\n",
        "\n",
        "videos_dfs = []\n",
        "\n",
        "for file in csv_files:\n",
        "    if file.startswith(\"videos_df\"):\n",
        "        df = pd.read_csv(file)\n",
        "        videos_dfs.append(df)\n",
        "\n",
        "combined_videos_df = pd.concat(videos_dfs, ignore_index=True)"
      ]
    },
    {
      "cell_type": "code",
      "execution_count": null,
      "metadata": {
        "colab": {
          "base_uri": "https://localhost:8080/"
        },
        "id": "Ko_KWwpVOMZk",
        "outputId": "b620553b-c46e-4c02-b44d-59d7a5d344a9"
      },
      "outputs": [
        {
          "data": {
            "text/plain": [
              "(12111, 7)"
            ]
          },
          "execution_count": 27,
          "metadata": {},
          "output_type": "execute_result"
        }
      ],
      "source": [
        "combined_videos_df.shape"
      ]
    },
    {
      "cell_type": "code",
      "execution_count": null,
      "metadata": {
        "colab": {
          "base_uri": "https://localhost:8080/"
        },
        "id": "OpPy2vyCjSt7",
        "outputId": "3cb1ddea-5578-4960-c21d-c0e213b9080f"
      },
      "outputs": [
        {
          "data": {
            "text/plain": [
              "9255"
            ]
          },
          "execution_count": 28,
          "metadata": {},
          "output_type": "execute_result"
        }
      ],
      "source": [
        "combined_videos_df.duplicated().sum()"
      ]
    },
    {
      "cell_type": "code",
      "execution_count": null,
      "metadata": {
        "id": "kSNVDw2ljWgq"
      },
      "outputs": [],
      "source": [
        "combined_videos_df = combined_videos_df.drop_duplicates()"
      ]
    },
    {
      "cell_type": "code",
      "execution_count": null,
      "metadata": {
        "colab": {
          "base_uri": "https://localhost:8080/"
        },
        "id": "BI7BmWWbja0Y",
        "outputId": "2da68967-c405-4d8c-896e-74ac005e94d7"
      },
      "outputs": [
        {
          "data": {
            "text/plain": [
              "0"
            ]
          },
          "execution_count": 30,
          "metadata": {},
          "output_type": "execute_result"
        }
      ],
      "source": [
        "combined_videos_df.duplicated().sum()"
      ]
    },
    {
      "cell_type": "code",
      "execution_count": null,
      "metadata": {
        "colab": {
          "base_uri": "https://localhost:8080/"
        },
        "id": "fjWGHovIjeyV",
        "outputId": "e375ccdc-55d7-490e-f6e0-f653b12d24a2"
      },
      "outputs": [
        {
          "data": {
            "text/plain": [
              "(2856, 7)"
            ]
          },
          "execution_count": 31,
          "metadata": {},
          "output_type": "execute_result"
        }
      ],
      "source": [
        "combined_videos_df.shape"
      ]
    },
    {
      "cell_type": "code",
      "execution_count": null,
      "metadata": {
        "id": "Any2p2sPKN1F"
      },
      "outputs": [],
      "source": [
        "videosdf = combined_videos_df.copy()"
      ]
    },
    {
      "cell_type": "code",
      "execution_count": null,
      "metadata": {
        "colab": {
          "base_uri": "https://localhost:8080/"
        },
        "id": "Z04AVtDWk27N",
        "outputId": "cd173b9f-7ab1-4bfc-e653-a128f99c9367"
      },
      "outputs": [
        {
          "data": {
            "text/plain": [
              "Video_id        object\n",
              "Category_id      int64\n",
              "Title           object\n",
              "Description     object\n",
              "url_default     object\n",
              "Channel_id      object\n",
              "Publish_time    object\n",
              "dtype: object"
            ]
          },
          "execution_count": 220,
          "metadata": {},
          "output_type": "execute_result"
        }
      ],
      "source": [
        "videosdf.dtypes"
      ]
    },
    {
      "cell_type": "markdown",
      "metadata": {
        "id": "RcoXDgqT9oo2"
      },
      "source": [
        "## **02.04 - Transforming data**"
      ]
    },
    {
      "cell_type": "markdown",
      "metadata": {
        "id": "xFLF85hYv-O2"
      },
      "source": [
        "### **[ ' Publish Time ' ]**"
      ]
    },
    {
      "cell_type": "code",
      "execution_count": null,
      "metadata": {
        "id": "4DjZXr2klL5V"
      },
      "outputs": [],
      "source": [
        "videosdf.Publish_time = pd.to_datetime(videosdf.Publish_time)"
      ]
    },
    {
      "cell_type": "code",
      "execution_count": null,
      "metadata": {
        "id": "oH08qEvjvoqX"
      },
      "outputs": [],
      "source": [
        "for index, row in videosdf.iterrows():\n",
        "     videosdf.loc[index, 'Publish_time'] = pd.to_datetime(row['Publish_time'])\n",
        "     videosdf.loc[index, 'Publish_time'] = row['Publish_time'].replace(tzinfo=None)"
      ]
    },
    {
      "cell_type": "code",
      "execution_count": null,
      "metadata": {
        "id": "m-DE1X6Ss8up"
      },
      "outputs": [],
      "source": [
        "current_date = datetime.now()"
      ]
    },
    {
      "cell_type": "code",
      "execution_count": null,
      "metadata": {
        "id": "NCnHmKMh3PKc"
      },
      "outputs": [],
      "source": [
        "bins = [-1, 30, 180, 365, 730, 1825, 3650, float('inf')]\n",
        "labels = ['0 to 1 month', '1 to 6 months', '6 months to 1 year', '1 year to 2 years', '2 years to 5 years', '5 years to 10 years', 'More than 10 years']"
      ]
    },
    {
      "cell_type": "code",
      "execution_count": null,
      "metadata": {
        "id": "NDdvVoKVo4Dl"
      },
      "outputs": [],
      "source": [
        "for index, row in videosdf.iterrows():\n",
        "\n",
        "    lifetime_days = (current_date - row['Publish_time']).days\n",
        "    videosdf.loc[index, 'Life_days'] = lifetime_days\n",
        "\n",
        "    years = lifetime_days // 365\n",
        "    months = (lifetime_days % 365) // 30\n",
        "    days = (lifetime_days % 365) % 30\n",
        "    videosdf.loc[index, 'Life_string'] = f\"{years}y {months}m {days}d\"\n",
        "\n",
        "    videosdf.loc[index, 'Life'] = pd.cut([lifetime_days], bins=bins, labels=labels)"
      ]
    },
    {
      "cell_type": "code",
      "execution_count": null,
      "metadata": {
        "colab": {
          "base_uri": "https://localhost:8080/",
          "height": 507
        },
        "id": "ansu7EBizv4T",
        "outputId": "9bb6a6a7-2d0d-481f-d5fe-cdf24112bb90"
      },
      "outputs": [
        {
          "data": {
            "image/png": "[encoded data removed]",
            "text/plain": [
              "<Figure size 1000x500 with 1 Axes>"
            ]
          },
          "metadata": {},
          "output_type": "display_data"
        }
      ],
      "source": [
        "plt.figure(figsize=(10,5))\n",
        "\n",
        "sns.set_style('darkgrid')\n",
        "sns.histplot(videosdf.Life)\n",
        "\n",
        "plt.title(\"Histogram of videos per life range\")\n",
        "plt.xlabel(\"Life range\")\n",
        "plt.ylabel(\"Count\")\n",
        "plt.xticks(rotation=45)\n",
        "plt.tight_layout()\n",
        "plt.show()"
      ]
    },
    {
      "cell_type": "markdown",
      "source": [
        "***INSIGHTS:***\n",
        "**Most of the EDUCATION videos fetched (probably due to the API mechanism) were released from 2 to 5 years before this analysis (April 2024). In the second position are recent videos released within less than one month before the data collection (what indicates the API returns recent videos possibly as an advertising strategy). If the data is was influenced by API definitions, we could assume the EDUCATION videos became more significant in the last 5 years, what is valid due to the changes the world has faced starting on Covid time, when people started doing more and more things online and at home, including learning.**"
      ],
      "metadata": {
        "id": "0I6Cl-dvD73h"
      }
    },
    {
      "cell_type": "code",
      "execution_count": null,
      "metadata": {
        "colab": {
          "base_uri": "https://localhost:8080/"
        },
        "id": "2gnMmGEmlUu0",
        "outputId": "9fe430fa-b8c0-406b-e849-3eebdf5a25ae"
      },
      "outputs": [
        {
          "data": {
            "text/plain": [
              "Video_id          object\n",
              "Category_id        int64\n",
              "Title             object\n",
              "Description       object\n",
              "url_default       object\n",
              "Channel_id        object\n",
              "Publish_time      object\n",
              "Life_days        float64\n",
              "Life_string       object\n",
              "Life            category\n",
              "dtype: object"
            ]
          },
          "execution_count": 41,
          "metadata": {},
          "output_type": "execute_result"
        }
      ],
      "source": [
        "videosdf.dtypes"
      ]
    },
    {
      "cell_type": "code",
      "execution_count": null,
      "metadata": {
        "id": "N11Kz_n9uPXj"
      },
      "outputs": [],
      "source": [
        "videosdf.reset_index(drop=True, inplace=True)"
      ]
    },
    {
      "cell_type": "markdown",
      "metadata": {
        "id": "CddRh3Q8aUGB"
      },
      "source": [
        "# **STEP 03 ------------------------------------------**"
      ]
    },
    {
      "cell_type": "markdown",
      "metadata": {
        "id": "1bhWVs68aZmW"
      },
      "source": [
        "# **VIDEOS details**"
      ]
    },
    {
      "cell_type": "markdown",
      "metadata": {
        "id": "neKhhbmOddwE"
      },
      "source": [
        "## **03.01 - Getting list of VIDEOS_id**"
      ]
    },
    {
      "cell_type": "code",
      "execution_count": null,
      "metadata": {
        "id": "_oq-pd7bnCQu"
      },
      "outputs": [],
      "source": [
        "videos_id_list_index = videosdf.Video_id.unique()"
      ]
    },
    {
      "cell_type": "code",
      "execution_count": null,
      "metadata": {
        "id": "oikds4E4ncVe"
      },
      "outputs": [],
      "source": [
        "videos_id_list = pd.Series(videos_id_list_index)"
      ]
    },
    {
      "cell_type": "markdown",
      "metadata": {
        "id": "LDFEiosldlln"
      },
      "source": [
        "## **03.02 - Function to retrieve video DETAILS**"
      ]
    },
    {
      "cell_type": "markdown",
      "metadata": {
        "id": "oCRRgTAMdzIq"
      },
      "source": [
        "### **Function definition**"
      ]
    },
    {
      "cell_type": "code",
      "execution_count": null,
      "metadata": {
        "id": "kZJoakrxmYrs"
      },
      "outputs": [],
      "source": [
        "# Retrieving additional information of videos\n",
        "# Using endpoint (method) = youtube.videos().list(\n",
        "\n",
        "def get_videos_info(youtube, videos_id_list):\n",
        "\n",
        "    videos_info = []\n",
        "\n",
        "    # Split the list of video IDs into chunks of 50 (maximum allowed by the API)\n",
        "    for i in range(0, len(videos_id_list), 50):\n",
        "        chunk_ids = ','.join(videos_id_list[i:i+50])\n",
        "\n",
        "        # Make API request to fetch information for the specified video IDs\n",
        "        request = youtube.videos().list(\n",
        "            part='snippet,contentDetails,statistics',\n",
        "            id=chunk_ids\n",
        "        )\n",
        "        response = request.execute()\n",
        "\n",
        "        for i in range(len(response['items'])):\n",
        "\n",
        "          data = dict(Video_id = response['items'][i]['id'],\n",
        "                    Tags = response['items'][i]['snippet'].get('tags', None),\n",
        "                    Localized_title = response['items'][i]['snippet']['localized']['title'],\n",
        "                    Localized_description = response['items'][i]['snippet']['localized']['description'],\n",
        "                    Default_language = response['items'][i]['snippet'].get('defaultAudioLanguage', None),\n",
        "\n",
        "                    Duration = response['items'][i]['contentDetails']['duration'],\n",
        "                    Caption = response['items'][i]['contentDetails']['caption'],\n",
        "\n",
        "                    View_count = response['items'][i]['statistics']['viewCount'],\n",
        "                    Like_count = response['items'][i]['statistics'].get('likeCount',\"unavailable\"),\n",
        "                    Comment_count = response['items'][i]['statistics'].get('commentCount',\"unavailable\")\n",
        "                    )\n",
        "\n",
        "          videos_info.append(data)\n",
        "\n",
        "    return videos_info"
      ]
    },
    {
      "cell_type": "markdown",
      "metadata": {
        "id": "6qIQaC1Ldwvt"
      },
      "source": [
        "### **Function call**"
      ]
    },
    {
      "cell_type": "code",
      "execution_count": null,
      "metadata": {
        "id": "BWuQgVtAoIL4"
      },
      "outputs": [],
      "source": [
        "videos_details = get_videos_info(youtube, videos_id_list)"
      ]
    },
    {
      "cell_type": "markdown",
      "metadata": {
        "id": "112Upnzld_cd"
      },
      "source": [
        "## **03.03 - DataFrame Creation**"
      ]
    },
    {
      "cell_type": "markdown",
      "metadata": {
        "id": "Ay4pqtED1fht"
      },
      "source": [
        "### **From API**"
      ]
    },
    {
      "cell_type": "code",
      "execution_count": null,
      "metadata": {
        "id": "S82nM-yDuo00"
      },
      "outputs": [],
      "source": [
        "# When using API\n",
        "df_videos_details = pd.DataFrame(videos_details)"
      ]
    },
    {
      "cell_type": "code",
      "execution_count": null,
      "metadata": {
        "colab": {
          "base_uri": "https://localhost:8080/"
        },
        "id": "IB0tU-d2jbyb",
        "outputId": "677f4d85-6574-4a3e-cc8f-24548474eb3a"
      },
      "outputs": [
        {
          "name": "stdout",
          "output_type": "stream",
          "text": [
            "<class 'pandas.core.frame.DataFrame'>\n",
            "RangeIndex: 2851 entries, 0 to 2850\n",
            "Data columns (total 10 columns):\n",
            " #   Column                 Non-Null Count  Dtype \n",
            "---  ------                 --------------  ----- \n",
            " 0   Video_id               2851 non-null   object\n",
            " 1   Tags                   2427 non-null   object\n",
            " 2   Localized_title        2851 non-null   object\n",
            " 3   Localized_description  2851 non-null   object\n",
            " 4   Default_language       2263 non-null   object\n",
            " 5   Duration               2851 non-null   object\n",
            " 6   Caption                2851 non-null   object\n",
            " 7   View_count             2851 non-null   object\n",
            " 8   Like_count             2851 non-null   object\n",
            " 9   Comment_count          2851 non-null   object\n",
            "dtypes: object(10)\n",
            "memory usage: 222.9+ KB\n"
          ]
        }
      ],
      "source": [
        "df_videos_details.info()"
      ]
    },
    {
      "cell_type": "code",
      "execution_count": null,
      "metadata": {
        "id": "CRKXQYuulEF_"
      },
      "outputs": [],
      "source": [
        "# Exporting results of videos details\n",
        "df_videos_details.to_csv('df_videos_details.csv', index=False)"
      ]
    },
    {
      "cell_type": "markdown",
      "metadata": {
        "id": "YnRD4FOi1oSD"
      },
      "source": [
        "### **From File**"
      ]
    },
    {
      "cell_type": "code",
      "execution_count": null,
      "metadata": {
        "id": "_44UrRODs6TY"
      },
      "outputs": [],
      "source": [
        "### This request is not so heavy and can be performed only once so I won't download and upload files\n",
        "### Importing data from file\n",
        "\n",
        "# df_videos_details = pd.read_csv('df_videos_details.csv')"
      ]
    },
    {
      "cell_type": "markdown",
      "metadata": {
        "id": "v-jv2ERbdWk0"
      },
      "source": [
        "## **03.04 - Merging details into original DataFrame**"
      ]
    },
    {
      "cell_type": "code",
      "execution_count": null,
      "metadata": {
        "id": "OKT24Qw_vTXb"
      },
      "outputs": [],
      "source": [
        "df_videos_with_details = pd.merge(videosdf, df_videos_details, on = 'Video_id' , how ='left')"
      ]
    },
    {
      "cell_type": "code",
      "execution_count": null,
      "metadata": {
        "colab": {
          "base_uri": "https://localhost:8080/"
        },
        "id": "9bHURPdmMQZ9",
        "outputId": "dcf13c11-44c2-40b0-fe7a-bb83ffc3ec69"
      },
      "outputs": [
        {
          "data": {
            "text/plain": [
              "(2856, 19)"
            ]
          },
          "execution_count": 53,
          "metadata": {},
          "output_type": "execute_result"
        }
      ],
      "source": [
        "df_videos_with_details.shape"
      ]
    },
    {
      "cell_type": "code",
      "execution_count": null,
      "metadata": {
        "id": "Nd6OevxAwONM"
      },
      "outputs": [],
      "source": [
        "pd.set_option('display.max_columns', None)\n",
        "#pd.reset_option('display.max_columns')"
      ]
    },
    {
      "cell_type": "code",
      "execution_count": null,
      "metadata": {
        "id": "8atkpaSrh_Wm"
      },
      "outputs": [],
      "source": [
        "df_videos = df_videos_with_details.copy()"
      ]
    },
    {
      "cell_type": "markdown",
      "metadata": {
        "id": "PrjyJqSk9yCp"
      },
      "source": [
        "# **STEP 04 ------------------------------------------**"
      ]
    },
    {
      "cell_type": "markdown",
      "metadata": {
        "id": "-gULfAhtatjR"
      },
      "source": [
        "# **Data Preprocessing**"
      ]
    },
    {
      "cell_type": "markdown",
      "metadata": {
        "id": "fpkfGDKwVVgi"
      },
      "source": [
        "## **04.01 - Missing Values**"
      ]
    },
    {
      "cell_type": "code",
      "execution_count": null,
      "metadata": {
        "colab": {
          "base_uri": "https://localhost:8080/"
        },
        "id": "0KYGhovxVqx3",
        "outputId": "21d6ad03-6d22-49da-c98d-747685efb221"
      },
      "outputs": [
        {
          "name": "stdout",
          "output_type": "stream",
          "text": [
            "Video_id                   0\n",
            "Category_id                0\n",
            "Title                      0\n",
            "Description               85\n",
            "url_default                0\n",
            "Channel_id                 0\n",
            "Publish_time               0\n",
            "Life_days                  0\n",
            "Life_string                0\n",
            "Life                       0\n",
            "Tags                     427\n",
            "Localized_title            3\n",
            "Localized_description      3\n",
            "Default_language         591\n",
            "Duration                   3\n",
            "Caption                    3\n",
            "View_count                 3\n",
            "Like_count                 3\n",
            "Comment_count              3\n",
            "dtype: int64\n"
          ]
        }
      ],
      "source": [
        "missing_data_count = df_videos.isnull().sum()\n",
        "print(missing_data_count)"
      ]
    },
    {
      "cell_type": "code",
      "execution_count": null,
      "metadata": {
        "id": "7E_7imeSYDbU"
      },
      "outputs": [],
      "source": [
        "df_videos = df_videos.dropna(subset=['Duration'])"
      ]
    },
    {
      "cell_type": "code",
      "execution_count": null,
      "metadata": {
        "colab": {
          "base_uri": "https://localhost:8080/"
        },
        "id": "KBoJyQHlYrjS",
        "outputId": "8b0f278c-f679-4576-b5a1-17cddb6ff7f3"
      },
      "outputs": [
        {
          "data": {
            "text/plain": [
              "Default_language    588\n",
              "Description          85\n",
              "Tags                424\n",
              "dtype: int64"
            ]
          },
          "execution_count": 63,
          "metadata": {},
          "output_type": "execute_result"
        }
      ],
      "source": [
        "columns_null = df_videos.isnull().sum().sort_index()\n",
        "columns_with_null = columns_null[columns_null > 0]\n",
        "columns_with_null"
      ]
    },
    {
      "cell_type": "markdown",
      "metadata": {
        "id": "q491aHcXY8Dq"
      },
      "source": [
        "- [ ' Description ' ] will be excluded. We will work with [ ' localized_description ' ]\n",
        "- [ ' Default_language ' ] will remain empty.\n",
        "- [ ' Tags ' ] will remain empty.\n"
      ]
    },
    {
      "cell_type": "markdown",
      "metadata": {
        "id": "DvQiFOP6ie1-"
      },
      "source": [
        "## **04.02 - Transforming Columns**"
      ]
    },
    {
      "cell_type": "markdown",
      "metadata": {
        "id": "1GTdidiBZzbx"
      },
      "source": [
        "### **[ ' Duration ' ]**"
      ]
    },
    {
      "cell_type": "code",
      "execution_count": null,
      "metadata": {
        "id": "iGC9lWzl996V"
      },
      "outputs": [],
      "source": [
        "df_videos['Duration'] = pd.to_timedelta(df_videos['Duration'])\n",
        "\n",
        "# Convert Timedelta objects to minutes\n",
        "df_videos['Duration_minutes'] = df_videos['Duration'].dt.total_seconds() / 60\n",
        "df_videos['Duration_minutes'] = df_videos['Duration_minutes'].round(1)"
      ]
    },
    {
      "cell_type": "code",
      "execution_count": null,
      "metadata": {
        "id": "2EWwZU2r-T1P"
      },
      "outputs": [],
      "source": [
        "bins = [0, 5, 20, 60, 120, 300, float('inf')]\n",
        "labels = ['0-5 min', '5-20 min', '20m to 1h', '1-2h', '2-5h', '>5h']"
      ]
    },
    {
      "cell_type": "code",
      "execution_count": null,
      "metadata": {
        "id": "sao2JZ1KBAoC"
      },
      "outputs": [],
      "source": [
        "df_videos['Duration_range'] = pd.cut(df_videos['Duration_minutes'], bins=bins, labels=labels, right=False)"
      ]
    },
    {
      "cell_type": "markdown",
      "metadata": {
        "id": "_UOGW-vXEz2y"
      },
      "source": [
        "### **[ ' Like_count ' ]**"
      ]
    },
    {
      "cell_type": "code",
      "execution_count": null,
      "metadata": {
        "id": "UHjzTkjZfFsU"
      },
      "outputs": [],
      "source": [
        "# def format_with_thousands_separator(num):\n",
        "#     return '{:,.0f}'.format(num)"
      ]
    },
    {
      "cell_type": "code",
      "execution_count": null,
      "metadata": {
        "id": "Q9geklwhEE2A"
      },
      "outputs": [],
      "source": [
        "df_videos['Like_count'] = pd.to_numeric(df_videos['Like_count'], errors='coerce')\n",
        "df_videos['Like_count'].fillna(0, inplace=True)"
      ]
    },
    {
      "cell_type": "code",
      "execution_count": null,
      "metadata": {
        "id": "KsH3JdtxDs3p"
      },
      "outputs": [],
      "source": [
        "duration_likes = df_videos.groupby('Duration_range')['Like_count'].sum()"
      ]
    },
    {
      "cell_type": "code",
      "execution_count": null,
      "metadata": {
        "id": "u5Q4Dz2PJ23m"
      },
      "outputs": [],
      "source": [
        "duration_likes = duration_likes.reset_index()"
      ]
    },
    {
      "cell_type": "code",
      "execution_count": null,
      "metadata": {
        "colab": {
          "base_uri": "https://localhost:8080/",
          "height": 599
        },
        "id": "MaWNF3s6LRoQ",
        "outputId": "bf648bd9-9b10-4235-ed15-cf8bce560809"
      },
      "outputs": [
        {
          "data": {
            "image/png": "[encoded data removed]",
            "text/plain": [
              "<Figure size 600x600 with 1 Axes>"
            ]
          },
          "metadata": {},
          "output_type": "display_data"
        }
      ],
      "source": [
        "explode = [0.05] * len(duration_likes)\n",
        "\n",
        "sns.set_style(\"dark\")\n",
        "plt.figure(figsize=(6,6))\n",
        "plt.pie(duration_likes['Like_count'] , labels = duration_likes['Duration_range'], autopct='%1.1f%%', startangle=90, explode=explode,\n",
        "        textprops={'fontsize': 12, 'fontweight': 'bold'})\n",
        "plt.title('Likes per Duration_range', fontdict={'fontsize': 16, 'fontweight': 'bold'})\n",
        "plt.legend(duration_likes['Duration_range'], loc='lower left', bbox_to_anchor=(0, -0.1))\n",
        "plt.tight_layout()\n",
        "plt.show()"
      ]
    },
    {
      "cell_type": "markdown",
      "source": [
        "***INSIGHTS:***\n",
        "**We can conclude from the chart that short videos are more appreciated by the viewers. The videos with most likes are those with duration between 5 and 20 minutes, followed by 20m-1hour and 0-5min.**"
      ],
      "metadata": {
        "id": "3dIxO1r1D2EH"
      }
    },
    {
      "cell_type": "markdown",
      "metadata": {
        "id": "XXUYKtEedmG7"
      },
      "source": [
        "### **[ ' View_count ' ] & [ ' Comment_count ' ]**"
      ]
    },
    {
      "cell_type": "code",
      "execution_count": null,
      "metadata": {
        "id": "hn32muKGcil0"
      },
      "outputs": [],
      "source": [
        "df_videos['View_count'] = pd.to_numeric(df_videos['View_count'], errors='coerce')\n",
        "df_videos['View_count'].fillna(0, inplace=True)\n",
        "df_videos['View_count'] = df_videos['View_count'].astype(int)\n",
        "\n",
        "df_videos['Comment_count'] = pd.to_numeric(df_videos['Comment_count'], errors='coerce')\n",
        "df_videos['Comment_count'].fillna(0, inplace=True)\n",
        "df_videos['Comment_count'] = df_videos['Comment_count'].astype(int)"
      ]
    },
    {
      "cell_type": "markdown",
      "metadata": {
        "id": "f0pjFPzqO73f"
      },
      "source": [
        "### **[ ' Likes_per_view ' ] & [ ' Comments_per_view ' ]**"
      ]
    },
    {
      "cell_type": "code",
      "execution_count": null,
      "metadata": {
        "id": "IeolTRX-PEn6"
      },
      "outputs": [],
      "source": [
        "df_videos['Likes_per_day'] = df_videos['Like_count'] / df_videos['Life_days']\n",
        "df_videos['Likes_per_view'] = df_videos['Like_count'] / df_videos['View_count']\n",
        "\n",
        "df_videos['Views_per_day'] = df_videos['View_count'] / df_videos['Life_days']\n",
        "\n",
        "df_videos['Comments_per_day'] = df_videos['Comment_count'] / df_videos['Life_days']\n",
        "df_videos['Comments_per_view'] = df_videos['Comment_count'] / df_videos['View_count']"
      ]
    },
    {
      "cell_type": "markdown",
      "metadata": {
        "id": "-DtyXM7XdQrP"
      },
      "source": [
        "### **[ ' Caption ' ]**"
      ]
    },
    {
      "cell_type": "code",
      "execution_count": null,
      "metadata": {
        "colab": {
          "base_uri": "https://localhost:8080/"
        },
        "id": "v3lrSd0Xf1BA",
        "outputId": "103fb815-5498-4a86-96c1-8ffc7616d7cb"
      },
      "outputs": [
        {
          "data": {
            "text/plain": [
              "Caption\n",
              "false    2209\n",
              "true      644\n",
              "Name: count, dtype: int64"
            ]
          },
          "execution_count": 77,
          "metadata": {},
          "output_type": "execute_result"
        }
      ],
      "source": [
        "df_videos.Caption.value_counts()"
      ]
    },
    {
      "cell_type": "code",
      "execution_count": null,
      "metadata": {
        "id": "6RnTZVjfgYhd"
      },
      "outputs": [],
      "source": [
        "ode = OrdinalEncoder()\n",
        "df_videos['Caption_ode'] = ode.fit_transform(df_videos[['Caption']])"
      ]
    },
    {
      "cell_type": "code",
      "execution_count": null,
      "metadata": {
        "colab": {
          "base_uri": "https://localhost:8080/"
        },
        "id": "XXQlHeGWgptD",
        "outputId": "afb759de-30bd-4e9a-eab9-761ded950d11"
      },
      "outputs": [
        {
          "data": {
            "text/plain": [
              "Caption_ode\n",
              "0.0    2209\n",
              "1.0     644\n",
              "Name: count, dtype: int64"
            ]
          },
          "execution_count": 79,
          "metadata": {},
          "output_type": "execute_result"
        }
      ],
      "source": [
        "df_videos.Caption_ode.value_counts()"
      ]
    },
    {
      "cell_type": "markdown",
      "metadata": {
        "id": "EKT4En88UmKJ"
      },
      "source": [
        "## **04.03 - Columns Removal**"
      ]
    },
    {
      "cell_type": "code",
      "execution_count": null,
      "metadata": {
        "colab": {
          "base_uri": "https://localhost:8080/"
        },
        "id": "duLwkNvOUuvv",
        "outputId": "376c613c-0dba-4bec-cfc9-c639f71d6451"
      },
      "outputs": [
        {
          "name": "stdout",
          "output_type": "stream",
          "text": [
            "<class 'pandas.core.frame.DataFrame'>\n",
            "Index: 2853 entries, 0 to 2855\n",
            "Data columns (total 27 columns):\n",
            " #   Column                 Non-Null Count  Dtype          \n",
            "---  ------                 --------------  -----          \n",
            " 0   Video_id               2853 non-null   object         \n",
            " 1   Category_id            2853 non-null   int64          \n",
            " 2   Title                  2853 non-null   object         \n",
            " 3   Description            2768 non-null   object         \n",
            " 4   url_default            2853 non-null   object         \n",
            " 5   Channel_id             2853 non-null   object         \n",
            " 6   Publish_time           2853 non-null   object         \n",
            " 7   Life_days              2853 non-null   float64        \n",
            " 8   Life_string            2853 non-null   object         \n",
            " 9   Life                   2853 non-null   category       \n",
            " 10  Tags                   2429 non-null   object         \n",
            " 11  Localized_title        2853 non-null   object         \n",
            " 12  Localized_description  2853 non-null   object         \n",
            " 13  Default_language       2265 non-null   object         \n",
            " 14  Duration               2853 non-null   timedelta64[ns]\n",
            " 15  Caption                2853 non-null   object         \n",
            " 16  View_count             2853 non-null   int64          \n",
            " 17  Like_count             2853 non-null   float64        \n",
            " 18  Comment_count          2853 non-null   int64          \n",
            " 19  Duration_minutes       2853 non-null   float64        \n",
            " 20  Duration_range         2853 non-null   category       \n",
            " 21  Likes_per_day          2853 non-null   float64        \n",
            " 22  Likes_per_view         2845 non-null   float64        \n",
            " 23  Views_per_day          2853 non-null   float64        \n",
            " 24  Comments_per_day       2853 non-null   float64        \n",
            " 25  Comments_per_view      2845 non-null   float64        \n",
            " 26  Caption_ode            2853 non-null   float64        \n",
            "dtypes: category(2), float64(9), int64(3), object(12), timedelta64[ns](1)\n",
            "memory usage: 585.7+ KB\n"
          ]
        }
      ],
      "source": [
        "df_videos.info()"
      ]
    },
    {
      "cell_type": "code",
      "execution_count": null,
      "metadata": {
        "id": "iAMN63gEfdwu"
      },
      "outputs": [],
      "source": [
        "columns_to_exclude = ['Title', 'Description', 'url_default']\n",
        "df_videos.drop(columns=columns_to_exclude, inplace=True)"
      ]
    },
    {
      "cell_type": "code",
      "execution_count": null,
      "metadata": {
        "id": "c65rPI9HDkR8"
      },
      "outputs": [],
      "source": [
        "df_videos.insert(1, 'Title', df_videos.pop('Localized_title'))\n",
        "df_videos.insert(2, 'Description', df_videos.pop('Localized_description'))\n",
        "df_videos.insert(12, 'Duration_minutes', df_videos.pop('Duration_minutes'))\n",
        "df_videos.insert(13, 'Duration_range', df_videos.pop('Duration_range'))\n",
        "df_videos.insert(15, 'Caption_ode ', df_videos.pop('Caption_ode'))"
      ]
    },
    {
      "cell_type": "code",
      "execution_count": null,
      "metadata": {
        "colab": {
          "base_uri": "https://localhost:8080/"
        },
        "id": "EYeH2aP6dWZ9",
        "outputId": "4e4003ac-53fd-461b-8b86-0e5120176364"
      },
      "outputs": [
        {
          "name": "stdout",
          "output_type": "stream",
          "text": [
            "<class 'pandas.core.frame.DataFrame'>\n",
            "Index: 2853 entries, 0 to 2855\n",
            "Data columns (total 24 columns):\n",
            " #   Column             Non-Null Count  Dtype          \n",
            "---  ------             --------------  -----          \n",
            " 0   Video_id           2853 non-null   object         \n",
            " 1   Title              2853 non-null   object         \n",
            " 2   Description        2853 non-null   object         \n",
            " 3   Category_id        2853 non-null   int64          \n",
            " 4   Channel_id         2853 non-null   object         \n",
            " 5   Publish_time       2853 non-null   object         \n",
            " 6   Life_days          2853 non-null   float64        \n",
            " 7   Life_string        2853 non-null   object         \n",
            " 8   Life               2853 non-null   category       \n",
            " 9   Tags               2429 non-null   object         \n",
            " 10  Default_language   2265 non-null   object         \n",
            " 11  Duration           2853 non-null   timedelta64[ns]\n",
            " 12  Duration_minutes   2853 non-null   float64        \n",
            " 13  Duration_range     2853 non-null   category       \n",
            " 14  Caption            2853 non-null   object         \n",
            " 15  Caption_ode        2853 non-null   float64        \n",
            " 16  View_count         2853 non-null   int64          \n",
            " 17  Like_count         2853 non-null   float64        \n",
            " 18  Comment_count      2853 non-null   int64          \n",
            " 19  Likes_per_day      2853 non-null   float64        \n",
            " 20  Likes_per_view     2845 non-null   float64        \n",
            " 21  Views_per_day      2853 non-null   float64        \n",
            " 22  Comments_per_day   2853 non-null   float64        \n",
            " 23  Comments_per_view  2845 non-null   float64        \n",
            "dtypes: category(2), float64(9), int64(3), object(9), timedelta64[ns](1)\n",
            "memory usage: 518.8+ KB\n"
          ]
        }
      ],
      "source": [
        "df_videos.info()"
      ]
    },
    {
      "cell_type": "markdown",
      "metadata": {
        "id": "uADlvhPRb3d_"
      },
      "source": [
        "## **04.04 - Missing Values 2**"
      ]
    },
    {
      "cell_type": "code",
      "execution_count": null,
      "metadata": {
        "colab": {
          "base_uri": "https://localhost:8080/"
        },
        "id": "B84ZCZh8bOys",
        "outputId": "215cc8a3-679d-42a9-a3ac-3e32d32aef72"
      },
      "outputs": [
        {
          "data": {
            "text/plain": [
              "Comments_per_view      8\n",
              "Default_language     588\n",
              "Likes_per_view         8\n",
              "Tags                 424\n",
              "dtype: int64"
            ]
          },
          "execution_count": 84,
          "metadata": {},
          "output_type": "execute_result"
        }
      ],
      "source": [
        "columns_null = df_videos.isnull().sum().sort_index()\n",
        "columns_with_null = columns_null[columns_null > 0]\n",
        "columns_with_null"
      ]
    },
    {
      "cell_type": "code",
      "execution_count": null,
      "metadata": {
        "id": "YrlbmAPPbeyO"
      },
      "outputs": [],
      "source": [
        "df_videos['Comments_per_view'] = df_videos['Comments_per_view'].fillna(0)\n",
        "df_videos['Likes_per_view'] = df_videos['Likes_per_view'].fillna(0)"
      ]
    },
    {
      "cell_type": "code",
      "execution_count": null,
      "metadata": {
        "colab": {
          "base_uri": "https://localhost:8080/"
        },
        "id": "8jTkPolnbwvp",
        "outputId": "f73f624a-6224-42bd-b02f-27c393bdaffd"
      },
      "outputs": [
        {
          "data": {
            "text/plain": [
              "Default_language    588\n",
              "Tags                424\n",
              "dtype: int64"
            ]
          },
          "execution_count": 86,
          "metadata": {},
          "output_type": "execute_result"
        }
      ],
      "source": [
        "columns_null = df_videos.isnull().sum().sort_index()\n",
        "columns_with_null = columns_null[columns_null > 0]\n",
        "columns_with_null"
      ]
    },
    {
      "cell_type": "markdown",
      "metadata": {
        "id": "CT8QIjF082RM"
      },
      "source": [
        "# **STEP 05 ------------------------------------------**"
      ]
    },
    {
      "cell_type": "markdown",
      "metadata": {
        "id": "Iyjt4BP8SZM5"
      },
      "source": [
        "# **THEME**"
      ]
    },
    {
      "cell_type": "markdown",
      "metadata": {
        "id": "Nzv64qwbi9Z-"
      },
      "source": [
        "## **05.01 - FUNCTIONS**"
      ]
    },
    {
      "cell_type": "markdown",
      "metadata": {
        "id": "GvH97EhZS01-"
      },
      "source": [
        "### **Function Remove Emojis**"
      ]
    },
    {
      "cell_type": "code",
      "execution_count": null,
      "metadata": {
        "id": "Xw-8TWksKab0"
      },
      "outputs": [],
      "source": [
        "def remove_emojis(text):\n",
        "    emoji_pattern = re.compile(\"[\"\n",
        "                               u\"\\U0001F600-\\U0001F64F\"  # emoticons\n",
        "                               u\"\\U0001F300-\\U0001F5FF\"  # symbols & pictographs\n",
        "                               u\"\\U0001F680-\\U0001F6FF\"  # transport & map symbols\n",
        "                               u\"\\U0001F700-\\U0001F77F\"  # alchemical symbols\n",
        "                               u\"\\U0001F780-\\U0001F7FF\"  # Geometric Shapes Extended\n",
        "                               u\"\\U0001F800-\\U0001F8FF\"  # Supplemental Arrows-C\n",
        "                               u\"\\U0001F900-\\U0001F9FF\"  # Supplemental Symbols and Pictographs\n",
        "                               u\"\\U0001FA00-\\U0001FA6F\"  # Chess Symbols\n",
        "                               u\"\\U0001FA70-\\U0001FAFF\"  # Symbols and Pictographs Extended-A\n",
        "                               u\"\\U00002702-\\U000027B0\"  # Dingbats\n",
        "                               u\"\\U000024C2-\\U0001F251\"\n",
        "                               \"]+\", flags=re.UNICODE)\n",
        "    return emoji_pattern.sub(r'', text)"
      ]
    },
    {
      "cell_type": "markdown",
      "metadata": {
        "id": "IywqaxCz2Y9g"
      },
      "source": [
        "### **Function Unite Words**"
      ]
    },
    {
      "cell_type": "code",
      "execution_count": null,
      "metadata": {
        "id": "pVrFbq0ut_uu"
      },
      "outputs": [],
      "source": [
        "# Define the dictionary containing word pairs and their replacements\n",
        "word_pairs = {\n",
        "    'chat gpt': 'chatgpt',\n",
        "    'chatgpt' : 'chatgpt',\n",
        "    'bigdata': 'bigdata',\n",
        "    'data science' : 'datascience',\n",
        "    'big data': 'bigdata',\n",
        "    'power bi': 'powerbi',\n",
        "    'powerbi': 'powerbi',\n",
        "    'git hub': 'github',\n",
        "    'github': 'github',\n",
        "    'cyber security': 'cybersecurity',\n",
        "    'cybersecurity': 'cybersecurity',\n",
        "    'crypto currency': 'cryptocurrency',\n",
        "    'cryptocurrency': 'cryptocurrency',\n",
        "    'social media marketing': 'socialmediamarketing',\n",
        "    'social media': 'socialmedia',\n",
        "    'clean up': 'cleanup',\n",
        "    'guitar lesson': 'guitarlessons',\n",
        "    'guitar lessons': 'guitarlessons',\n",
        "    'guitarlesson': 'guitarlessons',\n",
        "    'guitarlessons': 'guitarlessons',\n",
        "    'toddler learn': 'toddlerlearning',\n",
        "    'toddlerlearn': 'toddlerlearning',\n",
        "    'toddler learning': 'toddlerlearning',\n",
        "    'toddlerlearning': 'toddlerlearning',\n",
        "    'child development': 'childdevelopment',\n",
        "    'childdevelopment': 'childdevelopment',\n",
        "    'child develop': 'childdevelopment',\n",
        "    'childdevelop': 'childdevelopment',\n",
        "    'universal desing for learning': 'universaldesignforlearning',\n",
        "    'udl': 'universal-designforlearning',\n",
        "    'graphic design': 'graphicdesign',\n",
        "    'graphicdesign': 'graphicdesign',\n",
        "    'final cut' : 'finalcut',\n",
        "    'art for kids' : 'artforkids',\n",
        "    'bullet journal' : 'bulletjournal',\n",
        "    'self awareness' : 'selfawareness',\n",
        "    'make money' : 'make money',\n",
        "    'delta exchange' : 'deltaexchange',\n",
        "    'data analyst' : 'dataanalyst',\n",
        "    'get subscribers' : 'getsubscribers',\n",
        "    'overcome trauma' : 'overcometrauma',\n",
        "    'research proposal' : 'research proposal',\n",
        "    'zoom webinar' : 'zoomwebinar',\n",
        "    'love yourself' : 'loveyourself',\n",
        "    'education game' : 'educationgame',\n",
        "    'data drive' : 'datadriven',\n",
        "    'body language' : 'bodylanguage',\n",
        "    'personal growth' : 'personalgrowth',\n",
        "    'mental health' : 'mentalhealth',\n",
        "    'real estate' : 'realestate',\n",
        "    'online business' : 'online business'\n",
        "}"
      ]
    },
    {
      "cell_type": "code",
      "execution_count": null,
      "metadata": {
        "id": "nx9VD3ortnVy"
      },
      "outputs": [],
      "source": [
        "def unite_words(string_to_transform, word_pairs):\n",
        "\n",
        "    for pair, replacement in word_pairs.items():\n",
        "        string_to_transform = string_to_transform.replace(pair, replacement)\n",
        "    return string_to_transform"
      ]
    },
    {
      "cell_type": "markdown",
      "metadata": {
        "id": "-FlHM6nrhQCU"
      },
      "source": [
        "### **Function Most Common**"
      ]
    },
    {
      "cell_type": "code",
      "execution_count": null,
      "metadata": {
        "id": "fTwRKvSMqDBT"
      },
      "outputs": [],
      "source": [
        "irrelevantwords = ['a','an','and','the','these','those', 'one',\n",
        "                   'of','to','for',\n",
        "                   'in','at','on',\n",
        "                   'is', 'are',\n",
        "                   'i', 'you', 'your', 'we', 'they', 'our',\n",
        "                   'way','ways','part', 'new',\n",
        "                   'how', 'why', 'what', 'which',\n",
        "                   'like','become','with',\n",
        "                   'beginner','beginners','intermediate','advanced','pro',\n",
        "                   'listening','listen','reading','read','writing','write','speaking','speak',\n",
        "                   'learning','learn','tutorial','lesson','course','practice','exercise','training','train','exercises','guide','complete','advice',\n",
        "                   'now','quickly','fast',\n",
        "                   'https','http','https:','http:','www','com']"
      ]
    },
    {
      "cell_type": "code",
      "execution_count": null,
      "metadata": {
        "id": "E4q45psOQ3bU"
      },
      "outputs": [],
      "source": [
        "exclude = string.punctuation\n",
        "\n",
        "def remove_points(text):\n",
        "    translator = str.maketrans('', '', exclude)\n",
        "    text_without_punctuation = text.translate(translator)\n",
        "    return text_without_punctuation"
      ]
    },
    {
      "cell_type": "code",
      "execution_count": null,
      "metadata": {
        "id": "LUOwnSnWhSQK"
      },
      "outputs": [],
      "source": [
        "def longest_word(bigstring):\n",
        "    longest = \"\"\n",
        "    for word in bigstring:\n",
        "        # Split the string into words\n",
        "        words = word.split()\n",
        "        # Iterate over the words and find the longest\n",
        "        for w in words:\n",
        "            if len(w) > len(longest):\n",
        "                longest = w\n",
        "    return longest"
      ]
    },
    {
      "cell_type": "code",
      "execution_count": null,
      "metadata": {
        "id": "mtynudAbKl10"
      },
      "outputs": [],
      "source": [
        "def most_common(word):\n",
        "        counter = []\n",
        "        dif_elements = []\n",
        "        count_words = []\n",
        "        my_string = word.split()\n",
        "        elements = len(my_string)\n",
        "\n",
        "        for i in range(elements):\n",
        "            if (my_string[i] not in dif_elements) & (my_string[i] not in irrelevantwords):\n",
        "                dif_elements.append(my_string[i])\n",
        "        dif_elements.sort()\n",
        "        different_words = len(dif_elements)\n",
        "\n",
        "        for i in range(different_words):\n",
        "            count_words.append(my_string.count(dif_elements[i]))\n",
        "        counter = list(zip(count_words, dif_elements))\n",
        "        counter.sort(key=lambda x: x[0], reverse =True)\n",
        "\n",
        "        if len(counter) == 0:  # Check if counter is empty\n",
        "          return 'Irrelevant'  # Return empty string if no words found\n",
        "\n",
        "        max_count = counter[0][0]\n",
        "        max_count_words = []\n",
        "\n",
        "        if max_count == 1:\n",
        "          return \"Irrelevant\"\n",
        "\n",
        "        else:\n",
        "\n",
        "          for i in range(different_words):\n",
        "              if counter[i][0] == max_count:\n",
        "                  max_count_words.append(counter[i][1])\n",
        "\n",
        "          if len(max_count_words) > 1:\n",
        "             return longest_word(max_count_words)\n",
        "          else:\n",
        "             return max_count_words[0]"
      ]
    },
    {
      "cell_type": "markdown",
      "metadata": {
        "id": "mmGIyge1TX4A"
      },
      "source": [
        "## **05.02 - [ ' Tags ' ]**"
      ]
    },
    {
      "cell_type": "code",
      "execution_count": null,
      "metadata": {
        "id": "P0xiA3EUxfN2"
      },
      "outputs": [],
      "source": [
        "# Transform TAGs from list to single STRING\n",
        "\n",
        "for index, row in df_videos.iterrows():\n",
        "  if (not row['Tags']) | (isinstance(row['Tags'], Iterable) == False):\n",
        "    df_videos.loc[index, 'Tags_separated'] = \"Irrelevant\"\n",
        "  else:\n",
        "    df_videos.loc[index, 'Tags_separated'] = \" \".join(row['Tags'])"
      ]
    },
    {
      "cell_type": "code",
      "execution_count": null,
      "metadata": {
        "id": "L4ed1XqlTfBH"
      },
      "outputs": [],
      "source": [
        "# Removing Emojis\n",
        "\n",
        "for index, row in df_videos.iterrows():\n",
        "  if row['Tags_separated'] == \"Irrelevant\":\n",
        "    df_videos.loc[index, 'Tags_without_emojis'] = \"Irrelevant\"\n",
        "  else:\n",
        "    df_videos.loc[index, 'Tags_without_emojis'] = remove_emojis(row['Tags_separated'])"
      ]
    },
    {
      "cell_type": "code",
      "execution_count": null,
      "metadata": {
        "id": "ZWr1TjmTROeo"
      },
      "outputs": [],
      "source": [
        "# NEW Removing punctuation\n",
        "\n",
        "for index, row in df_videos.iterrows():\n",
        "  if row['Tags_without_emojis'] == \"Irrelevant\":\n",
        "    df_videos.loc[index, 'Tags_without_punctuation'] = \"Irrelevant\"\n",
        "  else:\n",
        "    df_videos.loc[index, 'Tags_without_punctuation'] = remove_points(row['Tags_without_emojis']).lower().replace('[^a-zA-Z0-9]',' ')"
      ]
    },
    {
      "cell_type": "code",
      "execution_count": null,
      "metadata": {
        "id": "7qX0u4nlxzld"
      },
      "outputs": [],
      "source": [
        "# Applying Function Unite Words\n",
        "\n",
        "for index, row in df_videos.iterrows():\n",
        "  if row['Tags_without_punctuation'] == \"Irrelevant\":\n",
        "    df_videos.loc[index, 'Tags_united'] = \"Irrelevant\"\n",
        "  else:\n",
        "    df_videos.loc[index, 'Tags_united'] = unite_words(row['Tags_without_punctuation'], word_pairs)"
      ]
    },
    {
      "cell_type": "markdown",
      "metadata": {
        "id": "F1WiLVGDWtpU"
      },
      "source": [
        "## **05.03 - [ ' Title ' ]**"
      ]
    },
    {
      "cell_type": "code",
      "execution_count": null,
      "metadata": {
        "id": "0rKRsuasLsmJ"
      },
      "outputs": [],
      "source": [
        "# Removing Emojis\n",
        "\n",
        "for index, row in df_videos.iterrows():\n",
        "  if row['Title']:\n",
        "    df_videos.loc[index, 'Title_without_emojis'] = remove_emojis(str(row['Title']))"
      ]
    },
    {
      "cell_type": "code",
      "execution_count": null,
      "metadata": {
        "id": "phFeNFsJT0Ab"
      },
      "outputs": [],
      "source": [
        "# NEW Removing punctuation\n",
        "\n",
        "for index, row in df_videos.iterrows():\n",
        "  if row['Title_without_emojis'] == \"Irrelevant\":\n",
        "    df_videos.loc[index, 'Title_without_punctuation'] = \"Irrelevant\"\n",
        "  else:\n",
        "    df_videos.loc[index, 'Title_without_punctuation'] = remove_points(row['Title_without_emojis']).lower().replace('[^a-zA-Z0-9]',' ')"
      ]
    },
    {
      "cell_type": "code",
      "execution_count": null,
      "metadata": {
        "id": "QzsVrlgyV4zX"
      },
      "outputs": [],
      "source": [
        "# Applying Function Unite Words\n",
        "\n",
        "for index, row in df_videos.iterrows():\n",
        "  if row['Title_without_punctuation'] == \"Irrelevant\":\n",
        "    df_videos.loc[index, 'Title_united'] = \"Irrelevant\"\n",
        "  else:\n",
        "    df_videos.loc[index, 'Title_united'] = unite_words(row['Title_without_punctuation'], word_pairs)"
      ]
    },
    {
      "cell_type": "markdown",
      "metadata": {
        "id": "alYrEC-hXHKE"
      },
      "source": [
        "## **05.04 - [ ' Description ' ]**"
      ]
    },
    {
      "cell_type": "code",
      "execution_count": null,
      "metadata": {
        "id": "je4mzih-Ks2Q"
      },
      "outputs": [],
      "source": [
        "# Remobing Emojis\n",
        "\n",
        "for index, row in df_videos.iterrows():\n",
        "  if (not row['Description']) | (str(row['Description']).strip() == ''):\n",
        "    df_videos.loc[index, 'Description_without_emojis'] = \"Irrelevant\"\n",
        "  else:\n",
        "    df_videos.loc[index, 'Description_without_emojis'] = remove_emojis(str(row['Description']))"
      ]
    },
    {
      "cell_type": "code",
      "execution_count": null,
      "metadata": {
        "id": "ijeRtYLTURfA"
      },
      "outputs": [],
      "source": [
        "# NEW Removing punctuation\n",
        "\n",
        "for index, row in df_videos.iterrows():\n",
        "  if row['Description_without_emojis'] == \"Irrelevant\":\n",
        "    df_videos.loc[index, 'Description_without_punctuation'] = \"Irrelevant\"\n",
        "  else:\n",
        "    df_videos.loc[index, 'Description_without_punctuation'] = remove_points(row['Description_without_emojis']).lower().replace('[^a-zA-Z0-9]',' ')"
      ]
    },
    {
      "cell_type": "code",
      "execution_count": null,
      "metadata": {
        "id": "AbD7RRpLmM27"
      },
      "outputs": [],
      "source": [
        "# Applying Function Unite Words\n",
        "\n",
        "for index, row in df_videos.iterrows():\n",
        "  if row['Description_without_punctuation'] == \"Irrelevant\":\n",
        "    df_videos.loc[index, 'Description_united'] = \"Irrelevant\"\n",
        "  else:\n",
        "    df_videos.loc[index, 'Description_united'] = unite_words(row['Description_without_punctuation'], word_pairs)"
      ]
    },
    {
      "cell_type": "markdown",
      "metadata": {
        "id": "Zdo9XLrnXkW_"
      },
      "source": [
        "## **05.05 - Defining options and final Theme**"
      ]
    },
    {
      "cell_type": "markdown",
      "metadata": {
        "id": "BBTsFjNthHXY"
      },
      "source": [
        "### **Options**"
      ]
    },
    {
      "cell_type": "code",
      "execution_count": null,
      "metadata": {
        "id": "IKuAqvMYgJat"
      },
      "outputs": [],
      "source": [
        "# From Tags\n",
        "\n",
        "for index, row in df_videos.iterrows():\n",
        "  if  row['Tags_united'] == \"Irrelevant\":\n",
        "    df_videos.loc[index, 'Theme_from_Tags'] = \"Irrelevant\"\n",
        "  elif len(row['Tags_united'].split()) == 1:\n",
        "    df_videos.loc[index, 'Theme_from_Tags'] = row['Tags_united']\n",
        "  else:\n",
        "    df_videos.loc[index, 'Theme_from_Tags'] = most_common(str((row['Tags_united'])))"
      ]
    },
    {
      "cell_type": "code",
      "execution_count": null,
      "metadata": {
        "id": "edQALyympXnh"
      },
      "outputs": [],
      "source": [
        "# From Title\n",
        "\n",
        "for index, row in df_videos.iterrows():\n",
        "  if  row['Title_united'] == \"Irrelevant\":\n",
        "    df_videos.loc[index, 'Theme_from_Title'] = \"Irrelevant\"\n",
        "  elif len(row['Title_united'].split()) == 1:\n",
        "    df_videos.loc[index, 'Theme_from_Title'] = row['Title_united']\n",
        "  else:\n",
        "    df_videos.loc[index, 'Theme_from_Title'] = most_common(str((row['Title_united'])))"
      ]
    },
    {
      "cell_type": "code",
      "execution_count": null,
      "metadata": {
        "id": "0iHGDfj6c2G5"
      },
      "outputs": [],
      "source": [
        "# From Description\n",
        "\n",
        "for index, row in df_videos.iterrows():\n",
        "  if  row['Description_united'] == \"Irrelevant\":\n",
        "    df_videos.loc[index, 'Theme_from_Description'] = \"Irrelevant\"\n",
        "  elif len(row['Description_united'].split()) == 1:\n",
        "    df_videos.loc[index, 'Theme_from_Description'] = row['Description_united']\n",
        "  else:\n",
        "    df_videos.loc[index, 'Theme_from_Description'] = most_common(str((row['Description_united'])))"
      ]
    },
    {
      "cell_type": "code",
      "execution_count": null,
      "metadata": {
        "id": "EMw5Zq07tRUS"
      },
      "outputs": [],
      "source": [
        "# Based on NEW STRING\n",
        "\n",
        "for index, row in df_videos.iterrows():\n",
        "    New_string = (' '.join([row['Tags_united'], row['Title_united'], row['Description_united']])).strip('Irrelevant').strip()\n",
        "    df_videos.loc[index, 'Theme_from_new_string'] = most_common(New_string)"
      ]
    },
    {
      "cell_type": "markdown",
      "metadata": {
        "id": "qC4n0OBziIFI"
      },
      "source": [
        "## **05.06 - THEME FINAL DEFINITION**"
      ]
    },
    {
      "cell_type": "code",
      "execution_count": null,
      "metadata": {
        "id": "ww5B-4Bq0CFB"
      },
      "outputs": [],
      "source": [
        "for index, row in df_videos.iterrows():\n",
        "\n",
        "  if  row['Theme_from_Tags'] != \"Irrelevant\":\n",
        "    df_videos.loc[index, 'Theme'] = row['Theme_from_Tags']\n",
        "    df_videos.loc[index, 'Theme_source'] = \"Tags\"\n",
        "\n",
        "  elif (not row['Theme_from_Description'] == False) & (row['Theme_from_Description'] != \"Irrelevant\"):\n",
        "    df_videos.loc[index, 'Theme'] = row['Theme_from_Description']\n",
        "    df_videos.loc[index, 'Theme_source'] = \"Description\"\n",
        "\n",
        "  elif (not row['Theme_from_Title'] == False) & (row['Theme_from_Title'] != \"Irrelevant\"):\n",
        "    df_videos.loc[index, 'Theme'] = row['Theme_from_Title']\n",
        "    df_videos.loc[index, 'Theme_source'] = \"Title\"\n",
        "\n",
        "  elif row['Theme_from_new_string']:\n",
        "    df_videos.loc[index, 'Theme'] = row['Theme_from_new_string']\n",
        "    df_videos.loc[index, 'Theme_source'] = \"Concat_string\"\n",
        "\n",
        "  else:\n",
        "    df_videos.loc[index, 'Theme'] = \"Undefined\"\n",
        "    df_videos.loc[index, 'Theme_source'] = \"?\""
      ]
    },
    {
      "cell_type": "code",
      "execution_count": null,
      "metadata": {
        "colab": {
          "base_uri": "https://localhost:8080/"
        },
        "id": "ScrJeZPAq-gL",
        "outputId": "fb857e7e-5dc2-4de4-ca51-6d5d425ddfef"
      },
      "outputs": [
        {
          "name": "stdout",
          "output_type": "stream",
          "text": [
            "<class 'pandas.core.frame.DataFrame'>\n",
            "Index: 2853 entries, 0 to 2855\n",
            "Data columns (total 40 columns):\n",
            " #   Column                           Non-Null Count  Dtype          \n",
            "---  ------                           --------------  -----          \n",
            " 0   Video_id                         2853 non-null   object         \n",
            " 1   Title                            2853 non-null   object         \n",
            " 2   Description                      2853 non-null   object         \n",
            " 3   Category_id                      2853 non-null   int64          \n",
            " 4   Channel_id                       2853 non-null   object         \n",
            " 5   Publish_time                     2853 non-null   object         \n",
            " 6   Life_days                        2853 non-null   float64        \n",
            " 7   Life_string                      2853 non-null   object         \n",
            " 8   Life                             2853 non-null   category       \n",
            " 9   Tags                             2429 non-null   object         \n",
            " 10  Default_language                 2265 non-null   object         \n",
            " 11  Duration                         2853 non-null   timedelta64[ns]\n",
            " 12  Duration_minutes                 2853 non-null   float64        \n",
            " 13  Duration_range                   2853 non-null   category       \n",
            " 14  Caption                          2853 non-null   object         \n",
            " 15  Caption_ode                      2853 non-null   float64        \n",
            " 16  View_count                       2853 non-null   int64          \n",
            " 17  Like_count                       2853 non-null   float64        \n",
            " 18  Comment_count                    2853 non-null   int64          \n",
            " 19  Likes_per_day                    2853 non-null   float64        \n",
            " 20  Likes_per_view                   2853 non-null   float64        \n",
            " 21  Views_per_day                    2853 non-null   float64        \n",
            " 22  Comments_per_day                 2853 non-null   float64        \n",
            " 23  Comments_per_view                2853 non-null   float64        \n",
            " 24  Tags_separated                   2853 non-null   object         \n",
            " 25  Tags_without_emojis              2853 non-null   object         \n",
            " 26  Tags_without_punctuation         2853 non-null   object         \n",
            " 27  Tags_united                      2853 non-null   object         \n",
            " 28  Title_without_emojis             2853 non-null   object         \n",
            " 29  Title_without_punctuation        2853 non-null   object         \n",
            " 30  Title_united                     2853 non-null   object         \n",
            " 31  Description_without_emojis       2853 non-null   object         \n",
            " 32  Description_without_punctuation  2853 non-null   object         \n",
            " 33  Description_united               2853 non-null   object         \n",
            " 34  Theme_from_Tags                  2853 non-null   object         \n",
            " 35  Theme_from_Title                 2853 non-null   object         \n",
            " 36  Theme_from_Description           2853 non-null   object         \n",
            " 37  Theme_from_new_string            2853 non-null   object         \n",
            " 38  Theme                            2853 non-null   object         \n",
            " 39  Theme_source                     2853 non-null   object         \n",
            "dtypes: category(2), float64(9), int64(3), object(25), timedelta64[ns](1)\n",
            "memory usage: 939.9+ KB\n"
          ]
        }
      ],
      "source": [
        "df_videos.info()"
      ]
    },
    {
      "cell_type": "code",
      "execution_count": null,
      "metadata": {
        "id": "AESWFT3UXus9"
      },
      "outputs": [],
      "source": [
        "columns_to_exclude = ['Tags_separated','Tags_without_emojis','Tags_without_punctuation','Tags_united','Theme_from_Tags',\n",
        "                      'Title_without_emojis','Title_without_punctuation','Title_united','Theme_from_Title',\n",
        "                      'Description_without_emojis','Description_without_punctuation','Description_united','Theme_from_Description',\n",
        "                      'Theme_from_new_string']\n",
        "df_videos.drop(columns=columns_to_exclude, inplace=True)"
      ]
    },
    {
      "cell_type": "code",
      "execution_count": null,
      "metadata": {
        "colab": {
          "base_uri": "https://localhost:8080/"
        },
        "id": "J_7Jo5YcYl5L",
        "outputId": "efa2c0ff-46a5-4097-c419-c064a1853545"
      },
      "outputs": [
        {
          "name": "stdout",
          "output_type": "stream",
          "text": [
            "<class 'pandas.core.frame.DataFrame'>\n",
            "Index: 2853 entries, 0 to 2855\n",
            "Data columns (total 26 columns):\n",
            " #   Column             Non-Null Count  Dtype          \n",
            "---  ------             --------------  -----          \n",
            " 0   Video_id           2853 non-null   object         \n",
            " 1   Title              2853 non-null   object         \n",
            " 2   Description        2853 non-null   object         \n",
            " 3   Category_id        2853 non-null   int64          \n",
            " 4   Channel_id         2853 non-null   object         \n",
            " 5   Publish_time       2853 non-null   object         \n",
            " 6   Life_days          2853 non-null   float64        \n",
            " 7   Life_string        2853 non-null   object         \n",
            " 8   Life               2853 non-null   category       \n",
            " 9   Tags               2429 non-null   object         \n",
            " 10  Default_language   2265 non-null   object         \n",
            " 11  Duration           2853 non-null   timedelta64[ns]\n",
            " 12  Duration_minutes   2853 non-null   float64        \n",
            " 13  Duration_range     2853 non-null   category       \n",
            " 14  Caption            2853 non-null   object         \n",
            " 15  Caption_ode        2853 non-null   float64        \n",
            " 16  View_count         2853 non-null   int64          \n",
            " 17  Like_count         2853 non-null   float64        \n",
            " 18  Comment_count      2853 non-null   int64          \n",
            " 19  Likes_per_day      2853 non-null   float64        \n",
            " 20  Likes_per_view     2853 non-null   float64        \n",
            " 21  Views_per_day      2853 non-null   float64        \n",
            " 22  Comments_per_day   2853 non-null   float64        \n",
            " 23  Comments_per_view  2853 non-null   float64        \n",
            " 24  Theme              2853 non-null   object         \n",
            " 25  Theme_source       2853 non-null   object         \n",
            "dtypes: category(2), float64(9), int64(3), object(11), timedelta64[ns](1)\n",
            "memory usage: 627.9+ KB\n"
          ]
        }
      ],
      "source": [
        "df_videos.info()"
      ]
    },
    {
      "cell_type": "markdown",
      "metadata": {
        "id": "FAEFzGqHYuRL"
      },
      "source": [
        "## **05.07 - Validation**"
      ]
    },
    {
      "cell_type": "code",
      "execution_count": null,
      "metadata": {
        "colab": {
          "base_uri": "https://localhost:8080/"
        },
        "id": "bYLNk1CYefoB",
        "outputId": "15d1b96e-6e1b-4164-eb6a-32901e588d6f"
      },
      "outputs": [
        {
          "data": {
            "text/plain": [
              "Theme\n",
              "python         182\n",
              "socialmedia    148\n",
              "Irrelevant      68\n",
              "powerbi         53\n",
              "meditation      51\n",
              "              ... \n",
              "onion            1\n",
              "prong            1\n",
              "cubic            1\n",
              "steak            1\n",
              "brahmcharya      1\n",
              "Name: count, Length: 1218, dtype: int64"
            ]
          },
          "execution_count": 114,
          "metadata": {},
          "output_type": "execute_result"
        }
      ],
      "source": [
        "df_videos['Theme'].value_counts()"
      ]
    },
    {
      "cell_type": "code",
      "execution_count": null,
      "metadata": {
        "id": "84rCmadghG6r"
      },
      "outputs": [],
      "source": [
        "theme_df = df_videos.copy()"
      ]
    },
    {
      "cell_type": "markdown",
      "metadata": {
        "id": "TeCnlI8Cn5YY"
      },
      "source": [
        "## **05.08 - Theme ANALYSIS**"
      ]
    },
    {
      "cell_type": "code",
      "execution_count": null,
      "metadata": {
        "colab": {
          "base_uri": "https://localhost:8080/"
        },
        "id": "6ps1s_FGNm6d",
        "outputId": "54b4a19d-30cf-4564-e522-ba1b3564c7eb"
      },
      "outputs": [
        {
          "data": {
            "text/plain": [
              "Theme\n",
              "python         182\n",
              "socialmedia    148\n",
              "Irrelevant      68\n",
              "powerbi         53\n",
              "meditation      51\n",
              "              ... \n",
              "onion            1\n",
              "prong            1\n",
              "cubic            1\n",
              "steak            1\n",
              "brahmcharya      1\n",
              "Name: count, Length: 1218, dtype: int64"
            ]
          },
          "execution_count": 116,
          "metadata": {},
          "output_type": "execute_result"
        }
      ],
      "source": [
        "theme_df['Theme'].value_counts()"
      ]
    },
    {
      "cell_type": "code",
      "execution_count": null,
      "metadata": {
        "id": "stmdhLxuI3ux"
      },
      "outputs": [],
      "source": [
        "text = theme_df['Theme'].str.cat(sep=' ')"
      ]
    },
    {
      "cell_type": "code",
      "execution_count": null,
      "metadata": {
        "id": "DrpWJKieJaNF"
      },
      "outputs": [],
      "source": [
        "stopwords = set(STOPWORDS)\n",
        "new_stopwords = stopwords.union(irrelevantwords)"
      ]
    },
    {
      "cell_type": "code",
      "execution_count": null,
      "metadata": {
        "colab": {
          "base_uri": "https://localhost:8080/",
          "height": 337
        },
        "id": "ddL-DZF2KBeO",
        "outputId": "36f0e2d7-9c39-4a05-a014-21b212080102"
      },
      "outputs": [
        {
          "data": {
            "image/png": "[encoded data removed]",
            "text/plain": [
              "<Figure size 600x300 with 1 Axes>"
            ]
          },
          "metadata": {},
          "output_type": "display_data"
        }
      ],
      "source": [
        "plt.rcParams[\"figure.figsize\"] = (6, 3)\n",
        "\n",
        "wordcloud = WordCloud(max_font_size = 50, max_words = 25 , background_color = 'black' , stopwords = new_stopwords , colormap = 'flag').generate(text)\n",
        "\n",
        "plt.plot()\n",
        "plt.subplots_adjust(left=0, right=1, top=1, bottom=0)\n",
        "\n",
        "plt.imshow(wordcloud, interpolation='bilinear')\n",
        "plt.axis('off')\n",
        "plt.show()"
      ]
    },
    {
      "cell_type": "markdown",
      "source": [
        "***INSIGHTS:***\n",
        "**From the total of 2853 videos analysed, the used algorithm found 1218 likely themes. One of this is present as IRRELEVANT that actually means the algorithm failed to find a specific theme. The other 1217 themes appear with different occurrences, starting from 182 occurrences of PYTHON , 148 of SOCIAL MEDIA, 53 of POWER BI, 51 of MEDIDATION. The most common THEMES can be seen in the WordCloud above.**"
      ],
      "metadata": {
        "id": "CHE6VCjMDuyo"
      }
    },
    {
      "cell_type": "markdown",
      "metadata": {
        "id": "YiTO9BSeRX0W"
      },
      "source": [
        "**Pareto Chart**"
      ]
    },
    {
      "cell_type": "code",
      "execution_count": null,
      "metadata": {
        "id": "3O5yS2O5Ra8T"
      },
      "outputs": [],
      "source": [
        "video_theme = theme_df['Theme']\n",
        "theme_count = theme_df['Theme'].value_counts()\n",
        "theme_keys = theme_count.keys()\n",
        "theme_freq = theme_count.values\n",
        "\n",
        "theme_freq_df = pd.DataFrame({'Theme': theme_keys, 'Frequency':theme_freq})\n",
        "theme_freq_df['Percent'] = theme_freq_df.Frequency/theme_freq_df.Frequency.sum()*100\n",
        "theme_freq_df = theme_freq_df.sort_values(by=['Frequency'], ascending=False)\n",
        "theme_freq_df = theme_freq_df.reset_index(drop=True)\n",
        "theme_freq_df['Cumulative_Percent'] = theme_freq_df.Frequency.cumsum() / theme_freq_df.Frequency.sum() * 100"
      ]
    },
    {
      "cell_type": "code",
      "execution_count": null,
      "metadata": {
        "id": "m8n_7ZjMUfp1"
      },
      "outputs": [],
      "source": [
        "theme_freq_df = theme_freq_df.head(15)"
      ]
    },
    {
      "cell_type": "code",
      "execution_count": null,
      "metadata": {
        "colab": {
          "base_uri": "https://localhost:8080/",
          "height": 678
        },
        "id": "U92aPmFkTXHs",
        "outputId": "5ad669ee-b83a-44f2-dbeb-fb102bcaee8e"
      },
      "outputs": [
        {
          "name": "stderr",
          "output_type": "stream",
          "text": [
            "<ipython-input-162-e3006fefd0c5>:7: UserWarning:\n",
            "\n",
            "FixedFormatter should only be used together with FixedLocator\n",
            "\n"
          ]
        },
        {
          "data": {
            "image/png": "[encoded data removed]",
            "text/plain": [
              "<Figure size 1000x600 with 2 Axes>"
            ]
          },
          "metadata": {},
          "output_type": "display_data"
        }
      ],
      "source": [
        "fig,ax = plt.subplots(figsize=(10, 6))\n",
        "\n",
        "ax.set_xlabel('Theme')\n",
        "ax.bar('Theme', 'Frequency', data = theme_freq_df)\n",
        "ax.set_ylabel(\"Frequency\")\n",
        "ax.set_ylim(ymin=0)\n",
        "ax.set_xticklabels(theme_freq_df['Theme'], rotation=45)  # Rotate x-axis labels by 45 degrees\n",
        "\n",
        "ax2=ax.twinx()\n",
        "ax2.plot('Theme', 'Cumulative_Percent' , data = theme_freq_df , marker = 'o' , color='red')\n",
        "ax2.set_ylabel('Cumulative Percent')\n",
        "ax2.set_ylim(ymin=0)\n",
        "\n",
        "plt.suptitle('Pareto of most common themes')\n",
        "plt.tight_layout()\n",
        "plt.show()"
      ]
    },
    {
      "cell_type": "markdown",
      "source": [
        "***INSIGHTS:***\n",
        "**The Pareto Theorem states that a small percentage of causes have an outsized effect, what can be confirmed here in this analysis where only 15 themes (1,23% of the 1218 themes found) respond by almost 30% of the videos fetched.**"
      ],
      "metadata": {
        "id": "FFH2DUuXDsSb"
      }
    },
    {
      "cell_type": "markdown",
      "metadata": {
        "id": "kzMA1hPmauRE"
      },
      "source": [
        "------"
      ]
    },
    {
      "cell_type": "markdown",
      "metadata": {
        "id": "9RivUUVsavII"
      },
      "source": [
        "# **STEP 06 ------------------------------------------**"
      ]
    },
    {
      "cell_type": "markdown",
      "metadata": {
        "id": "0pQ0mTXMfV_W"
      },
      "source": [
        "# **CHANNELS**"
      ]
    },
    {
      "cell_type": "markdown",
      "metadata": {
        "id": "iladk3VcEcPh"
      },
      "source": [
        "## **06.01 - Getting list of CHANNELS**"
      ]
    },
    {
      "cell_type": "code",
      "execution_count": null,
      "metadata": {
        "id": "-kTxhqALmeDU"
      },
      "outputs": [],
      "source": [
        "channels_list = theme_df.Channel_id.unique()"
      ]
    },
    {
      "cell_type": "code",
      "execution_count": null,
      "metadata": {
        "id": "IdRWVzH0m7V6"
      },
      "outputs": [],
      "source": [
        "channels_list = pd.Series(channels_list)"
      ]
    },
    {
      "cell_type": "code",
      "execution_count": null,
      "metadata": {
        "colab": {
          "base_uri": "https://localhost:8080/"
        },
        "id": "PKW5Ou7fmr-9",
        "outputId": "dd1c4ba9-040a-4306-f002-21259ef56000"
      },
      "outputs": [
        {
          "data": {
            "text/plain": [
              "(1801,)"
            ]
          },
          "execution_count": 165,
          "metadata": {},
          "output_type": "execute_result"
        }
      ],
      "source": [
        "channels_list.shape"
      ]
    },
    {
      "cell_type": "markdown",
      "metadata": {
        "id": "3GzURGh7-lFt"
      },
      "source": [
        "## **06.02 - Fetching CHANNELS details**"
      ]
    },
    {
      "cell_type": "markdown",
      "metadata": {
        "id": "GCLQkmmc-4Mx"
      },
      "source": [
        "### **Function definition**"
      ]
    },
    {
      "cell_type": "code",
      "execution_count": null,
      "metadata": {
        "id": "cqX6vbT-WoFA"
      },
      "outputs": [],
      "source": [
        "\n",
        "def get_channels_details(youtube, channels_list):\n",
        "\n",
        "  all_data = []\n",
        "\n",
        "  for channel in channels_list:\n",
        "\n",
        "    request = youtube.channels().list(\n",
        "      part = 'snippet,contentDetails,statistics',\n",
        "      id = channel)\n",
        "\n",
        "    response = request.execute()\n",
        "\n",
        "    for item in range(len(response['items'])):\n",
        "        data = dict(\n",
        "            Channel_id = response['items'][item]['id'],\n",
        "            Channel_title = response['items'][item]['snippet']['title'],\n",
        "            Channel_country = response['items'][item]['snippet'].get('country', '*Not_found*'),\n",
        "            Channel_viewCount = response['items'][item]['statistics']['viewCount'],\n",
        "            Channel_subscriberCount = response['items'][item]['statistics']['subscriberCount'],\n",
        "            Channel_videoCount = response['items'][item]['statistics']['videoCount']\n",
        "            )\n",
        "\n",
        "        all_data.append(data)\n",
        "\n",
        "  return all_data"
      ]
    },
    {
      "cell_type": "markdown",
      "metadata": {
        "id": "biE1g0sq-9tF"
      },
      "source": [
        "### **Function call**"
      ]
    },
    {
      "cell_type": "code",
      "execution_count": null,
      "metadata": {
        "id": "iSojUsBkwsrT"
      },
      "outputs": [],
      "source": [
        "channels_data = get_channels_details(youtube, channels_list)"
      ]
    },
    {
      "cell_type": "markdown",
      "metadata": {
        "id": "OAUPc9QCokXL"
      },
      "source": [
        "## **06.03 - DataFrame creation**"
      ]
    },
    {
      "cell_type": "markdown",
      "metadata": {
        "id": "EMEQD6rS_A_c"
      },
      "source": [
        "### **Transforming data**"
      ]
    },
    {
      "cell_type": "code",
      "execution_count": null,
      "metadata": {
        "id": "dNjYtAcyXceF"
      },
      "outputs": [],
      "source": [
        "channelsdf = pd.DataFrame(channels_data)"
      ]
    },
    {
      "cell_type": "code",
      "execution_count": null,
      "metadata": {
        "colab": {
          "base_uri": "https://localhost:8080/"
        },
        "id": "T93QiFzOXp6g",
        "outputId": "05a6f593-9607-48aa-bb7c-a8ce33e72506"
      },
      "outputs": [
        {
          "data": {
            "text/plain": [
              "(1801, 6)"
            ]
          },
          "execution_count": 169,
          "metadata": {},
          "output_type": "execute_result"
        }
      ],
      "source": [
        "channelsdf.shape"
      ]
    },
    {
      "cell_type": "code",
      "execution_count": null,
      "metadata": {
        "colab": {
          "base_uri": "https://localhost:8080/"
        },
        "id": "YChHisjYXs1a",
        "outputId": "a1c6903e-3f93-4ce3-fc8f-d1d534558dfc"
      },
      "outputs": [
        {
          "data": {
            "text/plain": [
              "Channel_id                 object\n",
              "Channel_title              object\n",
              "Channel_country            object\n",
              "Channel_viewCount          object\n",
              "Channel_subscriberCount    object\n",
              "Channel_videoCount         object\n",
              "dtype: object"
            ]
          },
          "execution_count": 170,
          "metadata": {},
          "output_type": "execute_result"
        }
      ],
      "source": [
        "channelsdf.dtypes"
      ]
    },
    {
      "cell_type": "code",
      "execution_count": null,
      "metadata": {
        "id": "roAwzUCXYUYu"
      },
      "outputs": [],
      "source": [
        "channelsdf.Channel_viewCount = pd.to_numeric(channelsdf.Channel_viewCount)\n",
        "channelsdf.Channel_viewCount.fillna(0,inplace=True)\n",
        "\n",
        "channelsdf.Channel_subscriberCount = pd.to_numeric(channelsdf.Channel_subscriberCount)\n",
        "channelsdf.Channel_subscriberCount.fillna(0,inplace=True)\n",
        "\n",
        "channelsdf.Channel_videoCount = pd.to_numeric(channelsdf.Channel_videoCount)\n",
        "channelsdf.Channel_videoCount.fillna(0,inplace=True)"
      ]
    },
    {
      "cell_type": "code",
      "execution_count": null,
      "metadata": {
        "colab": {
          "base_uri": "https://localhost:8080/"
        },
        "id": "QXpmRz9wYeTa",
        "outputId": "5b54b7e7-9197-4a56-d2f1-d944768141f3"
      },
      "outputs": [
        {
          "data": {
            "text/plain": [
              "Channel_id                 object\n",
              "Channel_title              object\n",
              "Channel_country            object\n",
              "Channel_viewCount           int64\n",
              "Channel_subscriberCount     int64\n",
              "Channel_videoCount          int64\n",
              "dtype: object"
            ]
          },
          "execution_count": 172,
          "metadata": {},
          "output_type": "execute_result"
        }
      ],
      "source": [
        "channelsdf.dtypes"
      ]
    },
    {
      "cell_type": "markdown",
      "metadata": {
        "id": "Xe9GLyCd8w0J"
      },
      "source": [
        "## **06.04 - Adding to original DataFrame**"
      ]
    },
    {
      "cell_type": "code",
      "execution_count": null,
      "metadata": {
        "id": "T0HoGOnsa4Hq"
      },
      "outputs": [],
      "source": [
        "videos_complete = pd.merge(theme_df, channelsdf, on = 'Channel_id' , how ='left')"
      ]
    },
    {
      "cell_type": "code",
      "execution_count": null,
      "metadata": {
        "colab": {
          "base_uri": "https://localhost:8080/"
        },
        "id": "nNGWVZldeCKa",
        "outputId": "51d2073e-ab01-4fd2-cf43-80deeb455336"
      },
      "outputs": [
        {
          "data": {
            "text/plain": [
              "Default_language    588\n",
              "Tags                424\n",
              "dtype: int64"
            ]
          },
          "execution_count": 176,
          "metadata": {},
          "output_type": "execute_result"
        }
      ],
      "source": [
        "columns_null = videos_complete.isnull().sum().sort_index()\n",
        "columns_with_null = columns_null[columns_null > 0]\n",
        "columns_with_null"
      ]
    },
    {
      "cell_type": "markdown",
      "metadata": {
        "id": "69Dx1YNZt7iY"
      },
      "source": [
        "## **06.05 - Channel ANALYSIS**"
      ]
    },
    {
      "cell_type": "code",
      "execution_count": null,
      "metadata": {
        "id": "voEdyQsFv8xq"
      },
      "outputs": [],
      "source": [
        "channel_counts = videos_complete['Channel_title'].value_counts()\n",
        "channel_counts = channel_counts.head(15)"
      ]
    },
    {
      "cell_type": "code",
      "execution_count": null,
      "metadata": {
        "colab": {
          "base_uri": "https://localhost:8080/",
          "height": 701
        },
        "id": "6fQG8VaXuvqz",
        "outputId": "93f0ae7c-69d7-4446-a61f-0d9db22da7c1"
      },
      "outputs": [
        {
          "data": {
            "image/png": "[encoded data removed]",
            "text/plain": [
              "<Figure size 1000x700 with 1 Axes>"
            ]
          },
          "metadata": {},
          "output_type": "display_data"
        }
      ],
      "source": [
        "plt.figure(figsize=(10,7))\n",
        "plt.bar(channel_counts.index, channel_counts.values)\n",
        "plt.xlabel('Channel Name')\n",
        "plt.ylabel('Count')\n",
        "plt.title('Distribution of top 15 Channels', fontdict={'fontsize': 16, 'fontweight': 'bold'} , y=1.05)\n",
        "plt.xticks(rotation=45)\n",
        "plt.tight_layout()\n",
        "plt.show()"
      ]
    },
    {
      "cell_type": "markdown",
      "source": [
        "***INSIGHTS:***\n",
        "**It is nice to see that the most common channels are highly related to the most common themes found on the previous steps of this study.**"
      ],
      "metadata": {
        "id": "HKjNH7vyE4um"
      }
    },
    {
      "cell_type": "markdown",
      "metadata": {
        "id": "E1KciuUUghu0"
      },
      "source": [
        "------"
      ]
    },
    {
      "cell_type": "markdown",
      "metadata": {
        "id": "PXJbhrUfhsy8"
      },
      "source": [
        "# **STEP 07 ------------------------------------------**"
      ]
    },
    {
      "cell_type": "markdown",
      "metadata": {
        "id": "djeChaVQptNv"
      },
      "source": [
        "# **QUANTITATIVE ANALYSIS**"
      ]
    },
    {
      "cell_type": "markdown",
      "metadata": {
        "id": "OMZ4fTnHpyGr"
      },
      "source": [
        "## **07.01 - Correlation**"
      ]
    },
    {
      "cell_type": "code",
      "execution_count": null,
      "metadata": {
        "id": "4mH6TAXKzrTj"
      },
      "outputs": [],
      "source": [
        "columns_for_corr = ['Life_days', 'Duration_minutes', 'View_count' , 'Like_count' , 'Comment_count' , 'Channel_viewCount' , 'Channel_subscriberCount' , 'Channel_videoCount'  ]\n",
        "correlation_matrix = videos_complete[columns_for_corr].corr()"
      ]
    },
    {
      "cell_type": "code",
      "execution_count": null,
      "metadata": {
        "colab": {
          "base_uri": "https://localhost:8080/",
          "height": 703
        },
        "id": "hEwqB1_hpx1c",
        "outputId": "f1087c8c-eb90-4501-bb05-c0775cd63673"
      },
      "outputs": [
        {
          "data": {
            "image/png": "[encoded data removed]",
            "text/plain": [
              "<Figure size 1000x700 with 2 Axes>"
            ]
          },
          "metadata": {},
          "output_type": "display_data"
        }
      ],
      "source": [
        "plt.figure(figsize=(10,7))\n",
        "sns.heatmap(correlation_matrix, annot=True, cmap='coolwarm')\n",
        "plt.title('Correlation', fontdict={'fontsize': 16, 'fontweight': 'bold'} , y=1.05)\n",
        "plt.xticks(rotation=45)\n",
        "plt.tight_layout()\n",
        "plt.show()"
      ]
    },
    {
      "cell_type": "markdown",
      "source": [
        "***INSIGHTS:***\n",
        "\n",
        "\n",
        "**The Correlation Heatmap indicates 3 higher correlations:**\n",
        "- **1) 0.84 for variables Like_Count and Comment_Count**: This shows that the two types of interaction two a video are strongly related (whoever Likes the video also tends to comment on it)\n",
        "- **2) 0.78 for variables Channel_viewCount and Channel_subscriberCount**: The obvious fact that a channel with more subscriebrs has more views\n",
        "- **3) 0.61 for variables View_Count and Like_Count**: In the level of a video, it is also intuitive that a video with more views will have more likes.\n",
        "\n",
        "**Surprisingly, we don't see a strong relation between the channel popularity to the video metrics. It shows that although users may be loyal to the channel, they won't view/like/comment all of the channel's videos.**\n"
      ],
      "metadata": {
        "id": "daPwhmIXFI7r"
      }
    },
    {
      "cell_type": "markdown",
      "metadata": {
        "id": "DseXeh9W0LcB"
      },
      "source": [
        "## **07.02 - Likes per video per Day for 15 top themes**"
      ]
    },
    {
      "cell_type": "code",
      "execution_count": null,
      "metadata": {
        "id": "gLjDeLcFL1Re"
      },
      "outputs": [],
      "source": [
        "top_15_themes = videos_complete['Theme'].value_counts().head(15).index\n",
        "specific_languages = ['en1', 'en-US']\n",
        "filtered_df = videos_complete[videos_complete['Default_language'].isin(specific_languages)]\n",
        "filtered_df = filtered_df[(filtered_df['Theme'].isin(top_15_themes)) & (filtered_df['Theme']!=\"Irrelevant\")]\n",
        "average_likes_per_day = filtered_df.groupby('Theme')['Likes_per_day'].mean()\n",
        "average_likes_per_day_sorted = average_likes_per_day.sort_values(ascending=False)"
      ]
    },
    {
      "cell_type": "code",
      "execution_count": null,
      "metadata": {
        "colab": {
          "base_uri": "https://localhost:8080/",
          "height": 607
        },
        "id": "T1T9K8GUM1W5",
        "outputId": "0fd98b63-733e-4628-a1a7-63dfa3cc6ac2"
      },
      "outputs": [
        {
          "data": {
            "image/png": "[encoded data removed]",
            "text/plain": [
              "<Figure size 1000x600 with 1 Axes>"
            ]
          },
          "metadata": {},
          "output_type": "display_data"
        }
      ],
      "source": [
        "plt.figure(figsize=(10, 6))\n",
        "average_likes_per_day_sorted.plot(kind='bar', color='skyblue')\n",
        "plt.xlabel('Theme')\n",
        "plt.ylabel('Average Likes per Video per Day')\n",
        "plt.title('Top 15 Themes - Average Likes per Video per Day')\n",
        "plt.xticks(rotation=45)\n",
        "\n",
        "plt.tight_layout()\n",
        "plt.show()"
      ]
    },
    {
      "cell_type": "markdown",
      "source": [
        "***INSIGHTS:***\n",
        "\n",
        "\n",
        "**This chart shows the daily number of likes per video for the 15 most common themes. We can see a significant difference between the various themes. Videos reated to SQL and Selfawareness receive the greatest number of likes comparing to the rest of the themes.**"
      ],
      "metadata": {
        "id": "7NqES5XuMEik"
      }
    },
    {
      "cell_type": "markdown",
      "metadata": {
        "id": "kPYM1q2skox4"
      },
      "source": [
        "## **07.03 - Likes / 100views per Duration_range**"
      ]
    },
    {
      "cell_type": "code",
      "execution_count": null,
      "metadata": {
        "colab": {
          "base_uri": "https://localhost:8080/",
          "height": 269
        },
        "id": "GL2gEQVFibfG",
        "outputId": "2f78d5ad-56e9-4bdf-ebe0-8e169a0376f6"
      },
      "outputs": [
        {
          "data": {
            "application/vnd.google.colaboratory.intrinsic+json": {
              "summary": "{\n  \"name\": \"dur_range\",\n  \"rows\": 6,\n  \"fields\": [\n    {\n      \"column\": \"Duration_range\",\n      \"properties\": {\n        \"dtype\": \"category\",\n        \"num_unique_values\": 6,\n        \"samples\": [\n          \"0-5 min\",\n          \"5-20 min\",\n          \">5h\"\n        ],\n        \"semantic_type\": \"\",\n        \"description\": \"\"\n      }\n    },\n    {\n      \"column\": \"Like_count\",\n      \"properties\": {\n        \"dtype\": \"number\",\n        \"std\": 7852934.629268755,\n        \"min\": 1560317.0,\n        \"max\": 22651051.0,\n        \"num_unique_values\": 6,\n        \"samples\": [\n          9358203.0,\n          22651051.0,\n          3369672.0\n        ],\n        \"semantic_type\": \"\",\n        \"description\": \"\"\n      }\n    },\n    {\n      \"column\": \"View_count\",\n      \"properties\": {\n        \"dtype\": \"number\",\n        \"std\": 412863400,\n        \"min\": 140290174,\n        \"max\": 1200120898,\n        \"num_unique_values\": 6,\n        \"samples\": [\n          656266685,\n          1200120898,\n          147833229\n        ],\n        \"semantic_type\": \"\",\n        \"description\": \"\"\n      }\n    },\n    {\n      \"column\": \"Like / 100views\",\n      \"properties\": {\n        \"dtype\": \"number\",\n        \"std\": 0.776160313806823,\n        \"min\": 0.6585896782609421,\n        \"max\": 2.9427582486022543,\n        \"num_unique_values\": 6,\n        \"samples\": [\n          1.425975630623395,\n          1.8873974311878035,\n          2.2793738747328587\n        ],\n        \"semantic_type\": \"\",\n        \"description\": \"\"\n      }\n    }\n  ]\n}",
              "type": "dataframe",
              "variable_name": "dur_range"
            },
            "text/html": [
              "\n",
              "  <div id=\"df-0ad366c1-4a1d-44d8-95e2-5bfa8feedf53\" class=\"colab-df-container\">\n",
              "    <div>\n",
              "<style scoped>\n",
              "    .dataframe tbody tr th:only-of-type {\n",
              "        vertical-align: middle;\n",
              "    }\n",
              "\n",
              "    .dataframe tbody tr th {\n",
              "        vertical-align: top;\n",
              "    }\n",
              "\n",
              "    .dataframe thead th {\n",
              "        text-align: right;\n",
              "    }\n",
              "</style>\n",
              "<table border=\"1\" class=\"dataframe\">\n",
              "  <thead>\n",
              "    <tr style=\"text-align: right;\">\n",
              "      <th></th>\n",
              "      <th>Like_count</th>\n",
              "      <th>View_count</th>\n",
              "      <th>Like / 100views</th>\n",
              "    </tr>\n",
              "    <tr>\n",
              "      <th>Duration_range</th>\n",
              "      <th></th>\n",
              "      <th></th>\n",
              "      <th></th>\n",
              "    </tr>\n",
              "  </thead>\n",
              "  <tbody>\n",
              "    <tr>\n",
              "      <th>0-5 min</th>\n",
              "      <td>9358203.0</td>\n",
              "      <td>656266685</td>\n",
              "      <td>1.425976</td>\n",
              "    </tr>\n",
              "    <tr>\n",
              "      <th>5-20 min</th>\n",
              "      <td>22651051.0</td>\n",
              "      <td>1200120898</td>\n",
              "      <td>1.887397</td>\n",
              "    </tr>\n",
              "    <tr>\n",
              "      <th>20m to 1h</th>\n",
              "      <td>9705494.0</td>\n",
              "      <td>329809423</td>\n",
              "      <td>2.942758</td>\n",
              "    </tr>\n",
              "    <tr>\n",
              "      <th>1-2h</th>\n",
              "      <td>1560317.0</td>\n",
              "      <td>236917925</td>\n",
              "      <td>0.658590</td>\n",
              "    </tr>\n",
              "    <tr>\n",
              "      <th>2-5h</th>\n",
              "      <td>2861437.0</td>\n",
              "      <td>140290174</td>\n",
              "      <td>2.039656</td>\n",
              "    </tr>\n",
              "    <tr>\n",
              "      <th>&gt;5h</th>\n",
              "      <td>3369672.0</td>\n",
              "      <td>147833229</td>\n",
              "      <td>2.279374</td>\n",
              "    </tr>\n",
              "  </tbody>\n",
              "</table>\n",
              "</div>\n",
              "    <div class=\"colab-df-buttons\">\n",
              "\n",
              "  <div class=\"colab-df-container\">\n",
              "    <button class=\"colab-df-convert\" onclick=\"convertToInteractive('df-0ad366c1-4a1d-44d8-95e2-5bfa8feedf53')\"\n",
              "            title=\"Convert this dataframe to an interactive table.\"\n",
              "            style=\"display:none;\">\n",
              "\n",
              "  <svg xmlns=\"http://www.w3.org/2000/svg\" height=\"24px\" viewBox=\"0 -960 960 960\">\n",
              "    <path d=\"M120-120v-720h720v720H120Zm60-500h600v-160H180v160Zm220 220h160v-160H400v160Zm0 220h160v-160H400v160ZM180-400h160v-160H180v160Zm440 0h160v-160H620v160ZM180-180h160v-160H180v160Zm440 0h160v-160H620v160Z\"/>\n",
              "  </svg>\n",
              "    </button>\n",
              "\n",
              "  <style>\n",
              "    .colab-df-container {\n",
              "      display:flex;\n",
              "      gap: 12px;\n",
              "    }\n",
              "\n",
              "    .colab-df-convert {\n",
              "      background-color: #E8F0FE;\n",
              "      border: none;\n",
              "      border-radius: 50%;\n",
              "      cursor: pointer;\n",
              "      display: none;\n",
              "      fill: #1967D2;\n",
              "      height: 32px;\n",
              "      padding: 0 0 0 0;\n",
              "      width: 32px;\n",
              "    }\n",
              "\n",
              "    .colab-df-convert:hover {\n",
              "      background-color: #E2EBFA;\n",
              "      box-shadow: 0px 1px 2px rgba(60, 64, 67, 0.3), 0px 1px 3px 1px rgba(60, 64, 67, 0.15);\n",
              "      fill: #174EA6;\n",
              "    }\n",
              "\n",
              "    .colab-df-buttons div {\n",
              "      margin-bottom: 4px;\n",
              "    }\n",
              "\n",
              "    [theme=dark] .colab-df-convert {\n",
              "      background-color: #3B4455;\n",
              "      fill: #D2E3FC;\n",
              "    }\n",
              "\n",
              "    [theme=dark] .colab-df-convert:hover {\n",
              "      background-color: #434B5C;\n",
              "      box-shadow: 0px 1px 3px 1px rgba(0, 0, 0, 0.15);\n",
              "      filter: drop-shadow(0px 1px 2px rgba(0, 0, 0, 0.3));\n",
              "      fill: #FFFFFF;\n",
              "    }\n",
              "  </style>\n",
              "\n",
              "    <script>\n",
              "      const buttonEl =\n",
              "        document.querySelector('#df-0ad366c1-4a1d-44d8-95e2-5bfa8feedf53 button.colab-df-convert');\n",
              "      buttonEl.style.display =\n",
              "        google.colab.kernel.accessAllowed ? 'block' : 'none';\n",
              "\n",
              "      async function convertToInteractive(key) {\n",
              "        const element = document.querySelector('#df-0ad366c1-4a1d-44d8-95e2-5bfa8feedf53');\n",
              "        const dataTable =\n",
              "          await google.colab.kernel.invokeFunction('convertToInteractive',\n",
              "                                                    [key], {});\n",
              "        if (!dataTable) return;\n",
              "\n",
              "        const docLinkHtml = 'Like what you see? Visit the ' +\n",
              "          '<a target=\"_blank\" href=https://colab.research.google.com/notebooks/data_table.ipynb>data table notebook</a>'\n",
              "          + ' to learn more about interactive tables.';\n",
              "        element.innerHTML = '';\n",
              "        dataTable['output_type'] = 'display_data';\n",
              "        await google.colab.output.renderOutput(dataTable, element);\n",
              "        const docLink = document.createElement('div');\n",
              "        docLink.innerHTML = docLinkHtml;\n",
              "        element.appendChild(docLink);\n",
              "      }\n",
              "    </script>\n",
              "  </div>\n",
              "\n",
              "\n",
              "<div id=\"df-25174d6c-9a8d-4540-b5c4-3d3a57e10b66\">\n",
              "  <button class=\"colab-df-quickchart\" onclick=\"quickchart('df-25174d6c-9a8d-4540-b5c4-3d3a57e10b66')\"\n",
              "            title=\"Suggest charts\"\n",
              "            style=\"display:none;\">\n",
              "\n",
              "<svg xmlns=\"http://www.w3.org/2000/svg\" height=\"24px\"viewBox=\"0 0 24 24\"\n",
              "     width=\"24px\">\n",
              "    <g>\n",
              "        <path d=\"M19 3H5c-1.1 0-2 .9-2 2v14c0 1.1.9 2 2 2h14c1.1 0 2-.9 2-2V5c0-1.1-.9-2-2-2zM9 17H7v-7h2v7zm4 0h-2V7h2v10zm4 0h-2v-4h2v4z\"/>\n",
              "    </g>\n",
              "</svg>\n",
              "  </button>\n",
              "\n",
              "<style>\n",
              "  .colab-df-quickchart {\n",
              "      --bg-color: #E8F0FE;\n",
              "      --fill-color: #1967D2;\n",
              "      --hover-bg-color: #E2EBFA;\n",
              "      --hover-fill-color: #174EA6;\n",
              "      --disabled-fill-color: #AAA;\n",
              "      --disabled-bg-color: #DDD;\n",
              "  }\n",
              "\n",
              "  [theme=dark] .colab-df-quickchart {\n",
              "      --bg-color: #3B4455;\n",
              "      --fill-color: #D2E3FC;\n",
              "      --hover-bg-color: #434B5C;\n",
              "      --hover-fill-color: #FFFFFF;\n",
              "      --disabled-bg-color: #3B4455;\n",
              "      --disabled-fill-color: #666;\n",
              "  }\n",
              "\n",
              "  .colab-df-quickchart {\n",
              "    background-color: var(--bg-color);\n",
              "    border: none;\n",
              "    border-radius: 50%;\n",
              "    cursor: pointer;\n",
              "    display: none;\n",
              "    fill: var(--fill-color);\n",
              "    height: 32px;\n",
              "    padding: 0;\n",
              "    width: 32px;\n",
              "  }\n",
              "\n",
              "  .colab-df-quickchart:hover {\n",
              "    background-color: var(--hover-bg-color);\n",
              "    box-shadow: 0 1px 2px rgba(60, 64, 67, 0.3), 0 1px 3px 1px rgba(60, 64, 67, 0.15);\n",
              "    fill: var(--button-hover-fill-color);\n",
              "  }\n",
              "\n",
              "  .colab-df-quickchart-complete:disabled,\n",
              "  .colab-df-quickchart-complete:disabled:hover {\n",
              "    background-color: var(--disabled-bg-color);\n",
              "    fill: var(--disabled-fill-color);\n",
              "    box-shadow: none;\n",
              "  }\n",
              "\n",
              "  .colab-df-spinner {\n",
              "    border: 2px solid var(--fill-color);\n",
              "    border-color: transparent;\n",
              "    border-bottom-color: var(--fill-color);\n",
              "    animation:\n",
              "      spin 1s steps(1) infinite;\n",
              "  }\n",
              "\n",
              "  @keyframes spin {\n",
              "    0% {\n",
              "      border-color: transparent;\n",
              "      border-bottom-color: var(--fill-color);\n",
              "      border-left-color: var(--fill-color);\n",
              "    }\n",
              "    20% {\n",
              "      border-color: transparent;\n",
              "      border-left-color: var(--fill-color);\n",
              "      border-top-color: var(--fill-color);\n",
              "    }\n",
              "    30% {\n",
              "      border-color: transparent;\n",
              "      border-left-color: var(--fill-color);\n",
              "      border-top-color: var(--fill-color);\n",
              "      border-right-color: var(--fill-color);\n",
              "    }\n",
              "    40% {\n",
              "      border-color: transparent;\n",
              "      border-right-color: var(--fill-color);\n",
              "      border-top-color: var(--fill-color);\n",
              "    }\n",
              "    60% {\n",
              "      border-color: transparent;\n",
              "      border-right-color: var(--fill-color);\n",
              "    }\n",
              "    80% {\n",
              "      border-color: transparent;\n",
              "      border-right-color: var(--fill-color);\n",
              "      border-bottom-color: var(--fill-color);\n",
              "    }\n",
              "    90% {\n",
              "      border-color: transparent;\n",
              "      border-bottom-color: var(--fill-color);\n",
              "    }\n",
              "  }\n",
              "</style>\n",
              "\n",
              "  <script>\n",
              "    async function quickchart(key) {\n",
              "      const quickchartButtonEl =\n",
              "        document.querySelector('#' + key + ' button');\n",
              "      quickchartButtonEl.disabled = true;  // To prevent multiple clicks.\n",
              "      quickchartButtonEl.classList.add('colab-df-spinner');\n",
              "      try {\n",
              "        const charts = await google.colab.kernel.invokeFunction(\n",
              "            'suggestCharts', [key], {});\n",
              "      } catch (error) {\n",
              "        console.error('Error during call to suggestCharts:', error);\n",
              "      }\n",
              "      quickchartButtonEl.classList.remove('colab-df-spinner');\n",
              "      quickchartButtonEl.classList.add('colab-df-quickchart-complete');\n",
              "    }\n",
              "    (() => {\n",
              "      let quickchartButtonEl =\n",
              "        document.querySelector('#df-25174d6c-9a8d-4540-b5c4-3d3a57e10b66 button');\n",
              "      quickchartButtonEl.style.display =\n",
              "        google.colab.kernel.accessAllowed ? 'block' : 'none';\n",
              "    })();\n",
              "  </script>\n",
              "</div>\n",
              "\n",
              "  <div id=\"id_6846d620-d286-491e-a77e-100c2fa6d955\">\n",
              "    <style>\n",
              "      .colab-df-generate {\n",
              "        background-color: #E8F0FE;\n",
              "        border: none;\n",
              "        border-radius: 50%;\n",
              "        cursor: pointer;\n",
              "        display: none;\n",
              "        fill: #1967D2;\n",
              "        height: 32px;\n",
              "        padding: 0 0 0 0;\n",
              "        width: 32px;\n",
              "      }\n",
              "\n",
              "      .colab-df-generate:hover {\n",
              "        background-color: #E2EBFA;\n",
              "        box-shadow: 0px 1px 2px rgba(60, 64, 67, 0.3), 0px 1px 3px 1px rgba(60, 64, 67, 0.15);\n",
              "        fill: #174EA6;\n",
              "      }\n",
              "\n",
              "      [theme=dark] .colab-df-generate {\n",
              "        background-color: #3B4455;\n",
              "        fill: #D2E3FC;\n",
              "      }\n",
              "\n",
              "      [theme=dark] .colab-df-generate:hover {\n",
              "        background-color: #434B5C;\n",
              "        box-shadow: 0px 1px 3px 1px rgba(0, 0, 0, 0.15);\n",
              "        filter: drop-shadow(0px 1px 2px rgba(0, 0, 0, 0.3));\n",
              "        fill: #FFFFFF;\n",
              "      }\n",
              "    </style>\n",
              "    <button class=\"colab-df-generate\" onclick=\"generateWithVariable('dur_range')\"\n",
              "            title=\"Generate code using this dataframe.\"\n",
              "            style=\"display:none;\">\n",
              "\n",
              "  <svg xmlns=\"http://www.w3.org/2000/svg\" height=\"24px\"viewBox=\"0 0 24 24\"\n",
              "       width=\"24px\">\n",
              "    <path d=\"M7,19H8.4L18.45,9,17,7.55,7,17.6ZM5,21V16.75L18.45,3.32a2,2,0,0,1,2.83,0l1.4,1.43a1.91,1.91,0,0,1,.58,1.4,1.91,1.91,0,0,1-.58,1.4L9.25,21ZM18.45,9,17,7.55Zm-12,3A5.31,5.31,0,0,0,4.9,8.1,5.31,5.31,0,0,0,1,6.5,5.31,5.31,0,0,0,4.9,4.9,5.31,5.31,0,0,0,6.5,1,5.31,5.31,0,0,0,8.1,4.9,5.31,5.31,0,0,0,12,6.5,5.46,5.46,0,0,0,6.5,12Z\"/>\n",
              "  </svg>\n",
              "    </button>\n",
              "    <script>\n",
              "      (() => {\n",
              "      const buttonEl =\n",
              "        document.querySelector('#id_6846d620-d286-491e-a77e-100c2fa6d955 button.colab-df-generate');\n",
              "      buttonEl.style.display =\n",
              "        google.colab.kernel.accessAllowed ? 'block' : 'none';\n",
              "\n",
              "      buttonEl.onclick = () => {\n",
              "        google.colab.notebook.generateWithVariable('dur_range');\n",
              "      }\n",
              "      })();\n",
              "    </script>\n",
              "  </div>\n",
              "\n",
              "    </div>\n",
              "  </div>\n"
            ],
            "text/plain": [
              "                Like_count  View_count  Like / 100views\n",
              "Duration_range                                         \n",
              "0-5 min          9358203.0   656266685         1.425976\n",
              "5-20 min        22651051.0  1200120898         1.887397\n",
              "20m to 1h        9705494.0   329809423         2.942758\n",
              "1-2h             1560317.0   236917925         0.658590\n",
              "2-5h             2861437.0   140290174         2.039656\n",
              ">5h              3369672.0   147833229         2.279374"
            ]
          },
          "execution_count": 184,
          "metadata": {},
          "output_type": "execute_result"
        }
      ],
      "source": [
        "dur_range = df_videos.groupby('Duration_range')[['Like_count','View_count']].sum()\n",
        "dur_range['Like / 100views'] = 100 * dur_range['Like_count'] / dur_range['View_count']\n",
        "dur_range"
      ]
    },
    {
      "cell_type": "code",
      "execution_count": null,
      "metadata": {
        "colab": {
          "base_uri": "https://localhost:8080/",
          "height": 564
        },
        "id": "d6rMypfyjk8h",
        "outputId": "47fcebb8-03e8-48b2-b8e9-19daa6c60b14"
      },
      "outputs": [
        {
          "data": {
            "image/png": "[encoded data removed]",
            "text/plain": [
              "<Figure size 1200x600 with 1 Axes>"
            ]
          },
          "metadata": {},
          "output_type": "display_data"
        }
      ],
      "source": [
        "plt.figure(figsize=(12,6))\n",
        "plt.bar(dur_range.index, dur_range['Like / 100views'])\n",
        "plt.title('Likes / 100 views per Duration_range')\n",
        "plt.xlabel('Duration_range')\n",
        "plt.ylabel('Likes / 100 viewsWeekly Sales')\n",
        "plt.show()"
      ]
    },
    {
      "cell_type": "markdown",
      "source": [
        "***INSIGHTS:***\n",
        "\n",
        "\n",
        "**This analysis is complementar to the pie chart present in one of the first steps. While there we were analyzing absolute number of likes (before fetching the views count of each video), now we can refine the analysis and evaluate the number of likes per views (100 views) for each range of video duration. As in the first analysis, the top videos are those with duration between 20min and 1hour. However they are now followed by the longest videos (>5 hours and 2-5h). Videos with duration between 1-2hours present the lowest rate of likes.**"
      ],
      "metadata": {
        "id": "61uEoI4WMtfN"
      }
    }
  ],
  "metadata": {
    "colab": {
      "provenance": [],
      "toc_visible": true,
      "authorship_tag": "ABX9TyMWnCBah6gWyifwsO516Tbe",
      "include_colab_link": true
    },
    "kernelspec": {
      "display_name": "Python 3",
      "name": "python3"
    },
    "language_info": {
      "name": "python"
    }
  },
  "nbformat": 4,
  "nbformat_minor": 0
}